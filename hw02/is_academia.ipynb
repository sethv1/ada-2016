{
 "cells": [
  {
   "cell_type": "code",
   "execution_count": null,
   "metadata": {
    "collapsed": false
   },
   "outputs": [],
   "source": [
    "%matplotlib inline\n",
    "from bs4 import BeautifulSoup\n",
    "import requests\n",
    "import pickle\n",
    "import os.path\n",
    "import scipy.stats as stats\n",
    "import numpy as np"
   ]
  },
  {
   "cell_type": "code",
   "execution_count": null,
   "metadata": {
    "collapsed": true
   },
   "outputs": [],
   "source": [
    "# Try to cache the data with pickle if set to True\n",
    "CACHE = True"
   ]
  },
  {
   "cell_type": "code",
   "execution_count": null,
   "metadata": {
    "collapsed": false
   },
   "outputs": [],
   "source": [
    "# We use the form URL of public is academia\n",
    "req = requests.get('http://isa.epfl.ch/imoniteur_ISAP/!GEDPUBLICREPORTS.filter?ww_i_reportModel=133685247')"
   ]
  },
  {
   "cell_type": "code",
   "execution_count": null,
   "metadata": {
    "collapsed": false
   },
   "outputs": [],
   "source": [
    "main = BeautifulSoup(req.text, 'html.parser')"
   ]
  },
  {
   "cell_type": "code",
   "execution_count": null,
   "metadata": {
    "collapsed": false
   },
   "outputs": [],
   "source": [
    "print(main.body.prettify())"
   ]
  },
  {
   "cell_type": "markdown",
   "metadata": {},
   "source": [
    "**We can see that the Unité académique/Academic Unit input has the name `zz_x_UNITE_ACAD` and consists of one option for each section.**"
   ]
  },
  {
   "cell_type": "code",
   "execution_count": null,
   "metadata": {
    "collapsed": false
   },
   "outputs": [],
   "source": [
    "# Find the Unité académique element in the form\n",
    "unit = main.find(attrs={\"name\": \"zz_x_UNITE_ACAD\"})\n",
    "print(unit.prettify())"
   ]
  },
  {
   "cell_type": "markdown",
   "metadata": {},
   "source": [
    "**We can easily extract the 'value' (section id) for the Informatique section using BeautifulSoup:**"
   ]
  },
  {
   "cell_type": "code",
   "execution_count": null,
   "metadata": {
    "collapsed": false
   },
   "outputs": [],
   "source": [
    "# We use soup.find instead of soup.find_all because we can see\n",
    "# that each unit has a unique name.\n",
    "unit_IN_option = unit.find(text=\"Informatique\")\n",
    "unit_IN_id = unit_IN_option.parent['value']\n",
    "unit_IN_id"
   ]
  },
  {
   "cell_type": "code",
   "execution_count": null,
   "metadata": {
    "collapsed": false
   },
   "outputs": [],
   "source": [
    "period = main.find(attrs={\"name\": \"zz_x_PERIODE_ACAD\"})\n",
    "print(period.prettify())"
   ]
  },
  {
   "cell_type": "code",
   "execution_count": null,
   "metadata": {
    "collapsed": false
   },
   "outputs": [],
   "source": [
    "period_options = period.find_all(\"option\")"
   ]
  },
  {
   "cell_type": "code",
   "execution_count": null,
   "metadata": {
    "collapsed": false
   },
   "outputs": [],
   "source": [
    "for option in period_options:\n",
    "    print(option['value'])"
   ]
  },
  {
   "cell_type": "markdown",
   "metadata": {},
   "source": [
    "**We can get rid of the first one which is null**"
   ]
  },
  {
   "cell_type": "code",
   "execution_count": null,
   "metadata": {
    "collapsed": true
   },
   "outputs": [],
   "source": [
    "period_options = period_options[1:]"
   ]
  },
  {
   "cell_type": "code",
   "execution_count": null,
   "metadata": {
    "collapsed": false
   },
   "outputs": [],
   "source": [
    "# Create a dict mapping year period to period id \n",
    "year_dict = {option.text : option[\"value\"] for option in period_options}\n",
    "year_dict"
   ]
  },
  {
   "cell_type": "code",
   "execution_count": null,
   "metadata": {
    "collapsed": false
   },
   "outputs": [],
   "source": [
    "semester = main.find(attrs={\"name\": \"zz_x_PERIODE_PEDAGO\"})\n",
    "print(semester.prettify())"
   ]
  },
  {
   "cell_type": "code",
   "execution_count": null,
   "metadata": {
    "collapsed": false
   },
   "outputs": [],
   "source": [
    "options = semester.find_all(\"option\")\n",
    "options"
   ]
  },
  {
   "cell_type": "code",
   "execution_count": null,
   "metadata": {
    "collapsed": false
   },
   "outputs": [],
   "source": [
    "# Only keep options that contain \"Bachelor\"\n",
    "bachelor_options = [option for option in options if \"Bachelor\" in option.text]\n",
    "bachelor_options"
   ]
  },
  {
   "cell_type": "code",
   "execution_count": null,
   "metadata": {
    "collapsed": false
   },
   "outputs": [],
   "source": [
    "# Create a dict mapping semester number to semester id \n",
    "bachelor_dict = {option.text : option[\"value\"] for option in bachelor_options}\n",
    "bachelor_dict"
   ]
  },
  {
   "cell_type": "markdown",
   "metadata": {},
   "source": [
    "Now we have enough parameters to try to do a request to the request url. We found it using postman, it's a simple \"get\" request on `http://isa.epfl.ch/imoniteur_ISAP/!GEDPUBLICREPORTS.bhtml`. We analysed the request and the field names are the same as the `input` names, but with leading `ww` instead of `zz`, for instance: `zz_x_UNITE_ACAD` becomes `ww_x_UNITE_ACAD`."
   ]
  },
  {
   "cell_type": "code",
   "execution_count": null,
   "metadata": {
    "collapsed": true
   },
   "outputs": [],
   "source": [
    "BASE_URL = \"http://isa.epfl.ch/imoniteur_ISAP/!GEDPUBLICREPORTS.html\""
   ]
  },
  {
   "cell_type": "code",
   "execution_count": null,
   "metadata": {
    "collapsed": false
   },
   "outputs": [],
   "source": [
    "fields = {\"unit\": \"ww_x_UNITE_ACAD\", \"year\": \"ww_x_PERIODE_ACAD\", \"semester\": \"ww_x_PERIODE_PEDAGO\"}\n",
    "fields"
   ]
  },
  {
   "cell_type": "markdown",
   "metadata": {},
   "source": [
    "**Let's try to do a request of the Bachelor semester 1 for 2016-2017**"
   ]
  },
  {
   "cell_type": "code",
   "execution_count": null,
   "metadata": {
    "collapsed": false
   },
   "outputs": [],
   "source": [
    "params = {fields[\"unit\"] : unit_IN_id, fields[\"year\"] : year_dict[\"2016-2017\"], fields[\"semester\"] : bachelor_dict[\"Bachelor semestre 1\"]}\n",
    "params"
   ]
  },
  {
   "cell_type": "code",
   "execution_count": null,
   "metadata": {
    "collapsed": false
   },
   "outputs": [],
   "source": [
    "answer = requests.get(BASE_URL, params=params)\n",
    "answer.status_code"
   ]
  },
  {
   "cell_type": "code",
   "execution_count": null,
   "metadata": {
    "collapsed": false
   },
   "outputs": [],
   "source": [
    "answer.text"
   ]
  },
  {
   "cell_type": "markdown",
   "metadata": {},
   "source": [
    "**We get a 404: we need more fields to have a correct query. We noticed on postman that we needed three other fields, that we're going to get from the form**"
   ]
  },
  {
   "cell_type": "code",
   "execution_count": null,
   "metadata": {
    "collapsed": false
   },
   "outputs": [],
   "source": [
    "all_inputs = main.body.find_all(\"input\")\n",
    "all_inputs_values = {inp[\"name\"] : inp[\"value\"] for inp in all_inputs}\n",
    "print(all_inputs_values)"
   ]
  },
  {
   "cell_type": "markdown",
   "metadata": {},
   "source": [
    "**We see on postman that the additional fields we need are `ww_i_reportmodel`, `ww_i_reportModelXsl.`** Let's try again"
   ]
  },
  {
   "cell_type": "code",
   "execution_count": null,
   "metadata": {
    "collapsed": true
   },
   "outputs": [],
   "source": [
    "params[\"ww_i_reportmodel\"] = all_inputs_values[\"ww_i_reportmodel\"]\n",
    "params[\"ww_i_reportModelXsl\"] = all_inputs_values[\"ww_i_reportModelXsl\"]"
   ]
  },
  {
   "cell_type": "code",
   "execution_count": null,
   "metadata": {
    "collapsed": false
   },
   "outputs": [],
   "source": [
    "params"
   ]
  },
  {
   "cell_type": "code",
   "execution_count": null,
   "metadata": {
    "collapsed": false
   },
   "outputs": [],
   "source": [
    "answer = requests.get(BASE_URL, params=params)\n",
    "answer.status_code"
   ]
  },
  {
   "cell_type": "code",
   "execution_count": null,
   "metadata": {
    "collapsed": false
   },
   "outputs": [],
   "source": [
    "answersoup = BeautifulSoup(answer.text, \"html.parser\")\n",
    "print(answersoup.prettify())"
   ]
  },
  {
   "cell_type": "markdown",
   "metadata": {},
   "source": [
    "**Even though we get a 200, this is still not the output we need. One last parameter is missing, but it is not in the form as an input. By inspecting our postman requests, we noticed that `ww_x_GPS` is included.**"
   ]
  },
  {
   "cell_type": "code",
   "execution_count": null,
   "metadata": {
    "collapsed": false
   },
   "outputs": [],
   "source": [
    "# For now we just put it to -1\n",
    "params[\"ww_x_GPS\"] = -1"
   ]
  },
  {
   "cell_type": "code",
   "execution_count": null,
   "metadata": {
    "collapsed": false
   },
   "outputs": [],
   "source": [
    "answer = requests.get(BASE_URL, params=params)\n",
    "answer.status_code"
   ]
  },
  {
   "cell_type": "code",
   "execution_count": null,
   "metadata": {
    "collapsed": false
   },
   "outputs": [],
   "source": [
    "answersoup = BeautifulSoup(answer.text, \"html.parser\")\n",
    "print(answersoup.prettify())"
   ]
  },
  {
   "cell_type": "markdown",
   "metadata": {},
   "source": [
    "** It works!**"
   ]
  },
  {
   "cell_type": "code",
   "execution_count": null,
   "metadata": {
    "collapsed": true
   },
   "outputs": [],
   "source": [
    "import pandas as pd"
   ]
  },
  {
   "cell_type": "code",
   "execution_count": null,
   "metadata": {
    "collapsed": false
   },
   "outputs": [],
   "source": [
    "lines = answersoup.body.table.find_all('tr')\n",
    "print(\"\\n=============\\n\".join([str(line) for line in lines[:5]]))"
   ]
  },
  {
   "cell_type": "code",
   "execution_count": null,
   "metadata": {
    "collapsed": false
   },
   "outputs": [],
   "source": [
    "lines[-1]"
   ]
  },
  {
   "cell_type": "markdown",
   "metadata": {},
   "source": [
    "**We can see that all lines except the three first ones correspond to students. Let's discard the first two.**"
   ]
  },
  {
   "cell_type": "code",
   "execution_count": null,
   "metadata": {
    "collapsed": false
   },
   "outputs": [],
   "source": [
    "header = lines[2]\n",
    "lines = lines[3:]"
   ]
  },
  {
   "cell_type": "code",
   "execution_count": null,
   "metadata": {
    "collapsed": false
   },
   "outputs": [],
   "source": [
    "header"
   ]
  },
  {
   "cell_type": "markdown",
   "metadata": {},
   "source": [
    "**We are interested in \"Civilité\" (gender) and \"No Sciper\". They have index `0` and `10` TODO update this description**"
   ]
  },
  {
   "cell_type": "code",
   "execution_count": null,
   "metadata": {
    "collapsed": false
   },
   "outputs": [],
   "source": [
    "df = pd.DataFrame()\n",
    "items = []\n",
    "for line in lines:\n",
    "    td_list = line.find_all(\"td\")\n",
    "    items.append([th.text for th in td_list])\n",
    "    \n",
    "df = df.append(items)#[[item[0]] for item in items])\n",
    "\n",
    "# Keep: gender 0, name 1, specialization 4, minor 6, sciper 10\n",
    "df = df[[0,1,4,6,10]]\n",
    "df.columns = ['Gender', 'Name', 'Specialization', 'Minor', 'SCIPER']\n",
    "df.index = [item[10] for item in items]"
   ]
  },
  {
   "cell_type": "code",
   "execution_count": null,
   "metadata": {
    "collapsed": false
   },
   "outputs": [],
   "source": [
    "df.sample(10)"
   ]
  },
  {
   "cell_type": "code",
   "execution_count": null,
   "metadata": {
    "collapsed": false
   },
   "outputs": [],
   "source": [
    "df.index.is_unique"
   ]
  },
  {
   "cell_type": "markdown",
   "metadata": {},
   "source": [
    "**Sciper is unique, as it should be.**"
   ]
  },
  {
   "cell_type": "code",
   "execution_count": null,
   "metadata": {
    "collapsed": false
   },
   "outputs": [],
   "source": [
    "df.groupby(\"Gender\")[\"Gender\"].count()"
   ]
  },
  {
   "cell_type": "markdown",
   "metadata": {
    "collapsed": true
   },
   "source": [
    "**TODO: description and comments of the below functions which create a dataframe for each semester**"
   ]
  },
  {
   "cell_type": "code",
   "execution_count": null,
   "metadata": {
    "collapsed": false
   },
   "outputs": [],
   "source": [
    "def make_params(year_str, semester_str, semester_dict):\n",
    "    params = {\n",
    "          fields[\"year\"] : year_dict[year_str],\n",
    "          fields[\"semester\"] : semester_dict[semester_str]}\n",
    "    const_params = {fields[\"unit\"] : unit_IN_id, \n",
    "                \"ww_i_reportmodel\" : all_inputs_values[\"ww_i_reportmodel\"],\n",
    "                \"ww_i_reportModelXsl\" : all_inputs_values[\"ww_i_reportModelXsl\"],\n",
    "                \"ww_x_GPS\" : -1}\n",
    "    params.update(const_params)\n",
    "    return params\n",
    "\n",
    "def get_df_for_semester(year_str, semester_str, semester_dict):\n",
    "    params = make_params(year_str, semester_str, semester_dict)\n",
    "    \n",
    "    # If we want to use cache\n",
    "    if CACHE:\n",
    "        backup_path = os.path.join(\"cache\", year_str + semester_str + \".bak\")\n",
    "        \n",
    "        # If backup exists\n",
    "        if os.path.isfile(backup_path):\n",
    "            with open(backup_path, 'rb') as handle:\n",
    "                answer = pickle.load(handle)\n",
    "        else:\n",
    "            answer = requests.get(BASE_URL, params=params)\n",
    "            \n",
    "            # Create backup\n",
    "            with open(backup_path, 'wb') as handle:\n",
    "                pickle.dump(answer, handle)\n",
    "    # If we do not want to use cache\n",
    "    else:\n",
    "        answer = requests.get(BASE_URL, params=params)\n",
    "\n",
    "    answersoup = BeautifulSoup(answer.text, \"html.parser\")\n",
    "    lines = answersoup.body.table.find_all('tr')\n",
    "    \n",
    "    df = pd.DataFrame()\n",
    "    \n",
    "    # We assume we get a positive result if there are more than three lines\n",
    "    # because the student data starts on the fourth line\n",
    "    if len(lines) > 3:\n",
    "        lines = lines[3:]\n",
    "        items = []\n",
    "        for line in lines:\n",
    "            td_list = line.find_all(\"td\")\n",
    "            \n",
    "            ## we break if we encounter an error, for example HES passerelle\n",
    "            if(len(td_list)) == 0:\n",
    "                break\n",
    "            items.append([th.text for th in td_list])\n",
    "\n",
    "        df = df.append(items)\n",
    "\n",
    "        # Keep: gender 0, name 1, specialization 4, minor 6, sciper 10\n",
    "        df = df[[0,1,4,6,10]]\n",
    "        #print(items[0][10])\n",
    "        sciper_index = [item[10] for item in items] \n",
    "        year_index = [year_str for item in items]\n",
    "        semester_index = [semester_str for item in items]\n",
    "        df.index = [sciper_index, year_index, semester_index]\n",
    "        df.columns = ['Gender', 'Name', 'Specialization', 'Minor', 'SCIPER']\n",
    "        df[\"Year\"] = year_str\n",
    "        df[\"Semester\"] = semester_str\n",
    "\n",
    "    return df\n",
    "\n",
    "# Check that Tim appears in the list!\n",
    "df_ex = get_df_for_semester(\"2013-2014\", \"Bachelor semestre 3\", bachelor_dict)\n",
    "df_ex.loc['223744']"
   ]
  },
  {
   "cell_type": "code",
   "execution_count": null,
   "metadata": {
    "collapsed": false
   },
   "outputs": [],
   "source": [
    "df1 = get_df_for_semester(\"2013-2014\", \"Bachelor semestre 1\", bachelor_dict)\n",
    "df2 = get_df_for_semester(\"2014-2015\", \"Bachelor semestre 2\", bachelor_dict)\n",
    "df3 = pd.concat([df1, df2])\n",
    "df3.sample(10)"
   ]
  },
  {
   "cell_type": "code",
   "execution_count": null,
   "metadata": {
    "collapsed": false
   },
   "outputs": [],
   "source": [
    "# Concatenate all bachelor semesters\n",
    "dfs = []\n",
    "for year in year_dict:\n",
    "    for bachelor in bachelor_dict:\n",
    "        dfs.append(get_df_for_semester(year, bachelor, bachelor_dict))\n",
    "        \n",
    "df_bachelors = pd.concat(dfs)\n",
    "df_bachelors.sample(5)"
   ]
  },
  {
   "cell_type": "code",
   "execution_count": null,
   "metadata": {
    "collapsed": false
   },
   "outputs": [],
   "source": [
    "# Example, let's see Tim\n",
    "df_bachelors[df_bachelors['SCIPER']==\"223744\"].sort_values([\"Year\", \"Semester\"])"
   ]
  },
  {
   "cell_type": "code",
   "execution_count": null,
   "metadata": {
    "collapsed": false
   },
   "outputs": [],
   "source": [
    "df_bachelors.index.is_unique\n",
    "## TODO check null values"
   ]
  },
  {
   "cell_type": "code",
   "execution_count": null,
   "metadata": {
    "collapsed": false
   },
   "outputs": [],
   "source": [
    "# TODO COMMENT\n",
    "\n",
    "def did_graduate(group):\n",
    "    return (group['Semester'] == \"Bachelor semestre 1\").any() and (group['Semester'] == 'Bachelor semestre 6').any()\n",
    " \n",
    "def grad_time_gender(group):\n",
    "        last_sem = group['Year'].max()\n",
    "        first_sem = group['Year'].min()\n",
    "        delta = int(last_sem.split('-')[-1]) - int(first_sem.split('-')[0])\n",
    "        \n",
    "        gender = group['Gender'][0]\n",
    "        return pd.Series([delta, gender], index=[\"Grad time\", \"Gender\"])\n",
    "\n",
    "graduation_time = df_bachelors.groupby(by=\"SCIPER\").apply(lambda x : grad_time_gender(x) if did_graduate(x) else None).dropna()\n",
    "graduation_time.sample(10)"
   ]
  },
  {
   "cell_type": "code",
   "execution_count": null,
   "metadata": {
    "collapsed": false
   },
   "outputs": [],
   "source": [
    "graduation_time[\"Grad time\"].hist()"
   ]
  },
  {
   "cell_type": "markdown",
   "metadata": {},
   "source": [
    "** This seems right, knowing that EPFL is hard, and also that people starting after 2013 didn't even have a chance of graduating yet. **  "
   ]
  },
  {
   "cell_type": "markdown",
   "metadata": {
    "collapsed": true
   },
   "source": [
    "**Now let's look at the gender bias**"
   ]
  },
  {
   "cell_type": "code",
   "execution_count": null,
   "metadata": {
    "collapsed": false
   },
   "outputs": [],
   "source": [
    "gender_mean_grad = graduation_time.groupby(\"Gender\").mean()\n",
    "gender_mean_grad"
   ]
  },
  {
   "cell_type": "markdown",
   "metadata": {},
   "source": [
    "**It appears that the female students graduate in less time. But is the difference significant? We use the \"two sample T-Test\" to see if the difference in means is statistically significant, with the null hypothesis that the two means are identical. Because we know that the sample size is different for the two genders, and we don't know if the variance is the same, we use `equal_var=False` to apply \"Welch's t-test\"**"
   ]
  },
  {
   "cell_type": "code",
   "execution_count": null,
   "metadata": {
    "collapsed": false
   },
   "outputs": [],
   "source": [
    "stats.ttest_ind(\n",
    "    a=graduation_time[graduation_time[\"Gender\"] == \"Madame\"][\"Grad time\"], \n",
    "    b=graduation_time[graduation_time[\"Gender\"] == \"Monsieur\"][\"Grad time\"], equal_var=False)"
   ]
  },
  {
   "cell_type": "markdown",
   "metadata": {},
   "source": [
    "**The statistical test reveals a pvalue of 0.26, which is too large to reject the null hypothesis**"
   ]
  },
  {
   "cell_type": "code",
   "execution_count": null,
   "metadata": {
    "collapsed": false
   },
   "outputs": [],
   "source": [
    "# Only keep options that contain \"Master\"\n",
    "master_options = [option for option in options if \"Master\" in option.text]\n",
    "master_options"
   ]
  },
  {
   "cell_type": "markdown",
   "metadata": {},
   "source": [
    "**We can ignore the other options: we do not take into account internships because they are usually away from EPFL**"
   ]
  },
  {
   "cell_type": "code",
   "execution_count": null,
   "metadata": {
    "collapsed": false
   },
   "outputs": [],
   "source": [
    "master_dict = {option.text : option[\"value\"] for option in master_options}\n",
    "master_dict"
   ]
  },
  {
   "cell_type": "code",
   "execution_count": null,
   "metadata": {
    "collapsed": false
   },
   "outputs": [],
   "source": [
    "get_df_for_semester(\"2015-2016\", \"Master semestre 1\", master_dict)"
   ]
  },
  {
   "cell_type": "code",
   "execution_count": null,
   "metadata": {
    "collapsed": false
   },
   "outputs": [],
   "source": [
    "# Concatenate all master semesters\n",
    "dfs = []\n",
    "for year in year_dict:\n",
    "    for master in master_dict:\n",
    "        dfs.append(get_df_for_semester(year, master, master_dict))\n",
    "\n",
    "df_masters = pd.concat(dfs)\n",
    "df_masters.sample(5)"
   ]
  },
  {
   "cell_type": "markdown",
   "metadata": {},
   "source": [
    "**To calculate the average stay, we need to keep the records who have a Master Project, meaning that they finished their studies.**"
   ]
  },
  {
   "cell_type": "code",
   "execution_count": null,
   "metadata": {
    "collapsed": false
   },
   "outputs": [],
   "source": [
    "# Master projects\n",
    "df_masters[df_masters[\"Semester\"].str.contains(\"Projet\")]"
   ]
  },
  {
   "cell_type": "markdown",
   "metadata": {},
   "source": [
    "**There is definitely missing data, as only 128 Master Projects are registered, and most of them appear in 2016-2017. Indeed, looking at is-academia, some years contain no data for Master Projects. We conclude, that we cannot simply use Master Project to determine the end of the studies.**"
   ]
  },
  {
   "cell_type": "markdown",
   "metadata": {},
   "source": [
    "**Thus, to calculate the average stay, we do:**\n",
    "\n",
    "* discard record if no \"Master semestre 2\"\n",
    "* discard record if exists \"Spécialisation\" but no \"Master semestre 3\"\n",
    "* calculate delta between last and first semester\n",
    "* add 6 months if no record for \"Master project\""
   ]
  },
  {
   "cell_type": "code",
   "execution_count": null,
   "metadata": {
    "collapsed": false
   },
   "outputs": [],
   "source": [
    "len(df_masters)"
   ]
  },
  {
   "cell_type": "code",
   "execution_count": null,
   "metadata": {
    "collapsed": false
   },
   "outputs": [],
   "source": [
    "def finished_master(group):\n",
    "    # Drop if no \"Master semestre 2\"\n",
    "    if not (group['Semester'].isin([\"Master semestre 2\"])).any():\n",
    "        return False\n",
    "    # Drop if has a Specialization or a Minor, but no \"Master semestre 3\"\n",
    "    if group['Specialization'].any() or group['Minor'].any():\n",
    "        if not (group['Semester'].isin([\"Master semestre 3\"])).any():\n",
    "            return False\n",
    "    \n",
    "    return True\n",
    "        \n",
    "    \n",
    "df_masters_finished = df_masters.groupby(by=\"SCIPER\").filter(finished_master)"
   ]
  },
  {
   "cell_type": "code",
   "execution_count": null,
   "metadata": {
    "collapsed": false
   },
   "outputs": [],
   "source": [
    "print(len(df_masters), len(df_masters_finished))"
   ]
  },
  {
   "cell_type": "code",
   "execution_count": null,
   "metadata": {
    "collapsed": false
   },
   "outputs": [],
   "source": [
    "# Calculates the number of semesters. Adds a semester if no entry for a \"Projet Master\"\n",
    "def master_time(group):\n",
    "    delta = len(group['Semester'])\n",
    "    \n",
    "    if not (group['Semester'].isin([\"Projet Master automne\", \"Projet Master printemps\"])).any():\n",
    "        delta += 1\n",
    "    \n",
    "    return delta\n",
    "\n",
    "master_stay_semesters = df_masters_finished.groupby(by=\"SCIPER\").apply(master_time)\n",
    "master_stay_semesters.head(10)"
   ]
  },
  {
   "cell_type": "code",
   "execution_count": null,
   "metadata": {
    "collapsed": false
   },
   "outputs": [],
   "source": [
    "# We check the person who did 7 semesters\n",
    "df_masters.loc[\"146742\"]"
   ]
  },
  {
   "cell_type": "code",
   "execution_count": null,
   "metadata": {
    "collapsed": false,
    "scrolled": true
   },
   "outputs": [],
   "source": [
    "master_stay_semesters.hist()"
   ]
  },
  {
   "cell_type": "markdown",
   "metadata": {},
   "source": [
    "**So the average stay at epfl for master students is:**"
   ]
  },
  {
   "cell_type": "code",
   "execution_count": null,
   "metadata": {
    "collapsed": false
   },
   "outputs": [],
   "source": [
    "print(\"{0:.2f} semesters\".format(master_stay_semesters.mean()))"
   ]
  },
  {
   "cell_type": "code",
   "execution_count": null,
   "metadata": {
    "collapsed": false
   },
   "outputs": [],
   "source": [
    "# Returns True if has Specialization\n",
    "def has_spec(group):\n",
    "    return bool(group['Specialization'].any())\n",
    "\n",
    "# Calculate master time and find specialization\n",
    "def master_time_spec(group):\n",
    "    delta = master_time(group)\n",
    "    \n",
    "    # Replace empty cells with Nan so we can drop them\n",
    "    specs = group[\"Specialization\"].replace(\"\", np.nan)\n",
    "    specs = specs.dropna()\n",
    "    return pd.Series([delta, specs[0]], index=[\"Master stay\", \"Specialization\"])\n",
    "\n",
    "df_masters_spec = df_masters_finished.groupby(by=\"SCIPER\").filter(has_spec)\n",
    "df_masters_spec = df_masters_spec.groupby(by=\"SCIPER\").apply(master_time_spec)"
   ]
  },
  {
   "cell_type": "code",
   "execution_count": null,
   "metadata": {
    "collapsed": false
   },
   "outputs": [],
   "source": [
    "print(\"Number of students with specializations: %d\" % len(df_masters_spec))"
   ]
  },
  {
   "cell_type": "code",
   "execution_count": null,
   "metadata": {
    "collapsed": false
   },
   "outputs": [],
   "source": [
    "spec_avg = df_masters_spec.groupby(by=\"Specialization\").mean()"
   ]
  },
  {
   "cell_type": "code",
   "execution_count": null,
   "metadata": {
    "collapsed": false
   },
   "outputs": [],
   "source": [
    "spec_avg.sort_values(by=\"Master stay\").plot(kind=\"bar\")"
   ]
  },
  {
   "cell_type": "markdown",
   "metadata": {},
   "source": [
    "**Now let's compare each specialization with the general dataset to see if there is a statistical difference between the means**"
   ]
  },
  {
   "cell_type": "code",
   "execution_count": null,
   "metadata": {
    "collapsed": false
   },
   "outputs": [],
   "source": [
    "def compare_spe_general(spe):\n",
    "    return stats.ttest_ind(a=spe[\"Master stay\"], b=master_stay_semesters, equal_var=False)\n",
    "\n",
    "# TODO check why there are problems\n",
    "df_masters_spec.groupby(by=\"Specialization\").apply(compare_spe_general)"
   ]
  },
  {
   "cell_type": "code",
   "execution_count": null,
   "metadata": {
    "collapsed": false
   },
   "outputs": [],
   "source": [
    "# Actually some specialization contain only 1 person. This might be a problem for the t-test:\n",
    "df_masters_spec.groupby(by=\"Specialization\").count()\n",
    "# maybe we should restrict to specialization that contain at least N values"
   ]
  },
  {
   "cell_type": "code",
   "execution_count": null,
   "metadata": {
    "collapsed": true
   },
   "outputs": [],
   "source": []
  }
 ],
 "metadata": {
  "anaconda-cloud": {},
  "kernelspec": {
   "display_name": "Python [default]",
   "language": "python",
   "name": "python3"
  },
  "language_info": {
   "codemirror_mode": {
    "name": "ipython",
    "version": 3
   },
   "file_extension": ".py",
   "mimetype": "text/x-python",
   "name": "python",
   "nbconvert_exporter": "python",
   "pygments_lexer": "ipython3",
   "version": "3.5.2"
  }
 },
 "nbformat": 4,
 "nbformat_minor": 1
}
