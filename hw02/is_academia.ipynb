{
 "cells": [
  {
   "cell_type": "code",
   "execution_count": null,
   "metadata": {
    "collapsed": false
   },
   "outputs": [],
   "source": [
    "%matplotlib inline\n",
    "from bs4 import BeautifulSoup\n",
    "import requests\n",
    "import pickle\n",
    "import os.path\n",
    "import scipy.stats as stats\n",
    "import numpy as np\n",
    "import pandas as pd"
   ]
  },
  {
   "cell_type": "code",
   "execution_count": null,
   "metadata": {
    "collapsed": true
   },
   "outputs": [],
   "source": [
    "# Try to cache the data with pickle if set to True\n",
    "CACHE = True"
   ]
  },
  {
   "cell_type": "markdown",
   "metadata": {},
   "source": [
    "# 1st Part : Bachelor students  "
   ]
  },
  {
   "cell_type": "markdown",
   "metadata": {},
   "source": [
    "**First, we examine the details of IS-Academia web form to find out the various form parameters\n",
    "that we need for a successful request!**"
   ]
  },
  {
   "cell_type": "code",
   "execution_count": null,
   "metadata": {
    "collapsed": false
   },
   "outputs": [],
   "source": [
    "# We use the form URL of public is-academia\n",
    "req = requests.get('http://isa.epfl.ch/imoniteur_ISAP/!GEDPUBLICREPORTS.filter?ww_i_reportModel=133685247')"
   ]
  },
  {
   "cell_type": "code",
   "execution_count": null,
   "metadata": {
    "collapsed": false
   },
   "outputs": [],
   "source": [
    "main = BeautifulSoup(req.text, 'html.parser')"
   ]
  },
  {
   "cell_type": "code",
   "execution_count": null,
   "metadata": {
    "collapsed": false
   },
   "outputs": [],
   "source": [
    "print(main.body.prettify())"
   ]
  },
  {
   "cell_type": "markdown",
   "metadata": {},
   "source": [
    "**We can see that the Unité académique/Academic Unit input has the name `zz_x_UNITE_ACAD` and consists of one option for each section.**"
   ]
  },
  {
   "cell_type": "code",
   "execution_count": null,
   "metadata": {
    "collapsed": false
   },
   "outputs": [],
   "source": [
    "# Find the Unité académique element in the form\n",
    "unit = main.find(attrs={\"name\": \"zz_x_UNITE_ACAD\"})\n",
    "print(unit.prettify())"
   ]
  },
  {
   "cell_type": "markdown",
   "metadata": {},
   "source": [
    "**We can easily extract the 'value' (section id) for the Informatique section using BeautifulSoup:**"
   ]
  },
  {
   "cell_type": "code",
   "execution_count": null,
   "metadata": {
    "collapsed": false
   },
   "outputs": [],
   "source": [
    "# We use soup.find instead of soup.find_all because we can see\n",
    "# that each unit has a unique name.\n",
    "unit_IN_option = unit.find(text=\"Informatique\")\n",
    "unit_IN_id = unit_IN_option.parent['value']\n",
    "unit_IN_id"
   ]
  },
  {
   "cell_type": "markdown",
   "metadata": {},
   "source": [
    "**Now we look at the options for the Year field**"
   ]
  },
  {
   "cell_type": "code",
   "execution_count": null,
   "metadata": {
    "collapsed": false
   },
   "outputs": [],
   "source": [
    "period = main.find(attrs={\"name\": \"zz_x_PERIODE_ACAD\"})\n",
    "print(period.prettify())"
   ]
  },
  {
   "cell_type": "code",
   "execution_count": null,
   "metadata": {
    "collapsed": false
   },
   "outputs": [],
   "source": [
    "period_options = period.find_all(\"option\")"
   ]
  },
  {
   "cell_type": "code",
   "execution_count": null,
   "metadata": {
    "collapsed": false
   },
   "outputs": [],
   "source": [
    "for option in period_options:\n",
    "    print(option['value'])"
   ]
  },
  {
   "cell_type": "markdown",
   "metadata": {},
   "source": [
    "**Great! We have an ID for each academic year. We can get rid of the first option, which is null**"
   ]
  },
  {
   "cell_type": "code",
   "execution_count": null,
   "metadata": {
    "collapsed": true
   },
   "outputs": [],
   "source": [
    "period_options = period_options[1:]"
   ]
  },
  {
   "cell_type": "code",
   "execution_count": null,
   "metadata": {
    "collapsed": false
   },
   "outputs": [],
   "source": [
    "# Create a dict mapping year period to period id \n",
    "year_dict = {option.text : option[\"value\"] for option in period_options}\n",
    "year_dict"
   ]
  },
  {
   "cell_type": "markdown",
   "metadata": {},
   "source": [
    "**Now let's find out how to choose the semester type in the form**"
   ]
  },
  {
   "cell_type": "code",
   "execution_count": null,
   "metadata": {
    "collapsed": false
   },
   "outputs": [],
   "source": [
    "semester = main.find(attrs={\"name\": \"zz_x_PERIODE_PEDAGO\"})\n",
    "print(semester.prettify())"
   ]
  },
  {
   "cell_type": "code",
   "execution_count": null,
   "metadata": {
    "collapsed": false
   },
   "outputs": [],
   "source": [
    "options = semester.find_all(\"option\")\n",
    "options"
   ]
  },
  {
   "cell_type": "code",
   "execution_count": null,
   "metadata": {
    "collapsed": false
   },
   "outputs": [],
   "source": [
    "# Only keep options that contain \"Bachelor\"\n",
    "bachelor_options = [option for option in options if \"Bachelor\" in option.text]\n",
    "bachelor_options"
   ]
  },
  {
   "cell_type": "code",
   "execution_count": null,
   "metadata": {
    "collapsed": false
   },
   "outputs": [],
   "source": [
    "# Create a dict mapping semester number to semester id \n",
    "bachelor_dict = {option.text : option[\"value\"] for option in bachelor_options}\n",
    "bachelor_dict"
   ]
  },
  {
   "cell_type": "markdown",
   "metadata": {},
   "source": [
    "**Now we have enough parameters to try to do a request to the request url. We found it using postman, it's a simple GET request on `http://isa.epfl.ch/imoniteur_ISAP/!GEDPUBLICREPORTS.bhtml`. We analysed the request and the field names are the same as the `input` names, but with leading `ww` instead of `zz`, for instance: `zz_x_UNITE_ACAD` becomes `ww_x_UNITE_ACAD`.**"
   ]
  },
  {
   "cell_type": "code",
   "execution_count": null,
   "metadata": {
    "collapsed": true
   },
   "outputs": [],
   "source": [
    "BASE_URL = \"http://isa.epfl.ch/imoniteur_ISAP/!GEDPUBLICREPORTS.html\""
   ]
  },
  {
   "cell_type": "code",
   "execution_count": null,
   "metadata": {
    "collapsed": false
   },
   "outputs": [],
   "source": [
    "fields = {\"unit\": \"ww_x_UNITE_ACAD\", \"year\": \"ww_x_PERIODE_ACAD\", \"semester\": \"ww_x_PERIODE_PEDAGO\"}\n",
    "fields"
   ]
  },
  {
   "cell_type": "markdown",
   "metadata": {},
   "source": [
    "**Let's try to do a request of the Bachelor semester 1 for 2016-2017**"
   ]
  },
  {
   "cell_type": "code",
   "execution_count": null,
   "metadata": {
    "collapsed": false
   },
   "outputs": [],
   "source": [
    "params = {fields[\"unit\"] : unit_IN_id, fields[\"year\"] : year_dict[\"2016-2017\"], fields[\"semester\"] : bachelor_dict[\"Bachelor semestre 1\"]}\n",
    "params"
   ]
  },
  {
   "cell_type": "code",
   "execution_count": null,
   "metadata": {
    "collapsed": false
   },
   "outputs": [],
   "source": [
    "answer = requests.get(BASE_URL, params=params)\n",
    "answer.status_code"
   ]
  },
  {
   "cell_type": "code",
   "execution_count": null,
   "metadata": {
    "collapsed": false
   },
   "outputs": [],
   "source": [
    "answer.text"
   ]
  },
  {
   "cell_type": "markdown",
   "metadata": {},
   "source": [
    "**We get a 404: we need more fields to have a correct query. We noticed on postman that we needed to fill two or three other fields, which we're going to get from the form**"
   ]
  },
  {
   "cell_type": "code",
   "execution_count": null,
   "metadata": {
    "collapsed": false
   },
   "outputs": [],
   "source": [
    "all_inputs = main.body.find_all(\"input\")\n",
    "all_inputs_values = {inp[\"name\"] : inp[\"value\"] for inp in all_inputs}\n",
    "print(all_inputs_values)"
   ]
  },
  {
   "cell_type": "markdown",
   "metadata": {},
   "source": [
    "**We see on postman that the additional fields we need are `ww_i_reportmodel`, `ww_i_reportModelXsl.` Let's try again!**"
   ]
  },
  {
   "cell_type": "code",
   "execution_count": null,
   "metadata": {
    "collapsed": true
   },
   "outputs": [],
   "source": [
    "params[\"ww_i_reportmodel\"] = all_inputs_values[\"ww_i_reportmodel\"]\n",
    "params[\"ww_i_reportModelXsl\"] = all_inputs_values[\"ww_i_reportModelXsl\"]"
   ]
  },
  {
   "cell_type": "code",
   "execution_count": null,
   "metadata": {
    "collapsed": false
   },
   "outputs": [],
   "source": [
    "params"
   ]
  },
  {
   "cell_type": "code",
   "execution_count": null,
   "metadata": {
    "collapsed": false
   },
   "outputs": [],
   "source": [
    "answer = requests.get(BASE_URL, params=params)\n",
    "answer.status_code"
   ]
  },
  {
   "cell_type": "code",
   "execution_count": null,
   "metadata": {
    "collapsed": false
   },
   "outputs": [],
   "source": [
    "answersoup = BeautifulSoup(answer.text, \"html.parser\")\n",
    "print(answersoup.prettify())"
   ]
  },
  {
   "cell_type": "markdown",
   "metadata": {},
   "source": [
    "**Even though we get a 200, this is still not the output we need. One last parameter is missing, but it is not in the form as an input. By inspecting our postman requests, we noticed that `ww_x_GPS` is included.**"
   ]
  },
  {
   "cell_type": "code",
   "execution_count": null,
   "metadata": {
    "collapsed": false
   },
   "outputs": [],
   "source": [
    "# We found out using postman interceptor that setting the value to -1 requests all of the tables for a request (\"Tous\")\n",
    "params[\"ww_x_GPS\"] = -1"
   ]
  },
  {
   "cell_type": "code",
   "execution_count": null,
   "metadata": {
    "collapsed": false
   },
   "outputs": [],
   "source": [
    "answer = requests.get(BASE_URL, params=params)\n",
    "answer.status_code"
   ]
  },
  {
   "cell_type": "code",
   "execution_count": null,
   "metadata": {
    "collapsed": false
   },
   "outputs": [],
   "source": [
    "answersoup = BeautifulSoup(answer.text, \"html.parser\")\n",
    "print(answersoup.prettify())"
   ]
  },
  {
   "cell_type": "markdown",
   "metadata": {},
   "source": [
    "** It works!**"
   ]
  },
  {
   "cell_type": "code",
   "execution_count": null,
   "metadata": {
    "collapsed": false
   },
   "outputs": [],
   "source": [
    "lines = answersoup.body.table.find_all('tr')\n",
    "print(\"\\n=============\\n\".join([str(line) for line in lines[:5]]))"
   ]
  },
  {
   "cell_type": "code",
   "execution_count": null,
   "metadata": {
    "collapsed": false
   },
   "outputs": [],
   "source": [
    "lines[-1]"
   ]
  },
  {
   "cell_type": "markdown",
   "metadata": {},
   "source": [
    "**We can see that all lines except the three first ones correspond to students. Let's discard the first two.**"
   ]
  },
  {
   "cell_type": "code",
   "execution_count": null,
   "metadata": {
    "collapsed": false
   },
   "outputs": [],
   "source": [
    "header = lines[2]\n",
    "lines = lines[3:]"
   ]
  },
  {
   "cell_type": "code",
   "execution_count": null,
   "metadata": {
    "collapsed": false
   },
   "outputs": [],
   "source": [
    "header"
   ]
  },
  {
   "cell_type": "markdown",
   "metadata": {},
   "source": [
    "**We are interested in \"Civilité\" (gender) and \"No Sciper\", \"Spécialisation\", and \"Mineur\". **"
   ]
  },
  {
   "cell_type": "code",
   "execution_count": null,
   "metadata": {
    "collapsed": false
   },
   "outputs": [],
   "source": [
    "df = pd.DataFrame()\n",
    "items = []\n",
    "for line in lines:\n",
    "    td_list = line.find_all(\"td\")\n",
    "    items.append([th.text for th in td_list])\n",
    "    \n",
    "df = df.append(items)\n",
    "\n",
    "# Keep: gender 0, name 1, specialization 4, minor 6, sciper 10\n",
    "df = df[[0,1,4,6,10]]\n",
    "df.columns = ['Gender', 'Name', 'Specialization', 'Minor', 'SCIPER']\n",
    "# We set the index to be the SCIPER number\n",
    "df.index = [item[10] for item in items]"
   ]
  },
  {
   "cell_type": "code",
   "execution_count": null,
   "metadata": {
    "collapsed": false
   },
   "outputs": [],
   "source": [
    "df.sample(10)"
   ]
  },
  {
   "cell_type": "code",
   "execution_count": null,
   "metadata": {
    "collapsed": false
   },
   "outputs": [],
   "source": [
    "df.index.is_unique"
   ]
  },
  {
   "cell_type": "markdown",
   "metadata": {},
   "source": [
    "**Sciper is unique, as it should be.**"
   ]
  },
  {
   "cell_type": "code",
   "execution_count": null,
   "metadata": {
    "collapsed": false
   },
   "outputs": [],
   "source": [
    "df.groupby(\"Gender\")[\"Gender\"].count()"
   ]
  },
  {
   "cell_type": "markdown",
   "metadata": {
    "collapsed": true
   },
   "source": [
    "**Here we create two functions to create a dataframe for each semester**\n",
    "* `make_params` is an utility function that creates the parameters for the http request\n",
    "* `get_df_for_semester` makes a request (or takes from the cache) to return a nice dataframe containing one semester of course records.\n"
   ]
  },
  {
   "cell_type": "code",
   "execution_count": null,
   "metadata": {
    "collapsed": false
   },
   "outputs": [],
   "source": [
    "def make_params(year_str, semester_str, semester_dict):\n",
    "    params = {\n",
    "          fields[\"year\"] : year_dict[year_str],\n",
    "          fields[\"semester\"] : semester_dict[semester_str]}\n",
    "    const_params = {fields[\"unit\"] : unit_IN_id, \n",
    "                \"ww_i_reportmodel\" : all_inputs_values[\"ww_i_reportmodel\"],\n",
    "                \"ww_i_reportModelXsl\" : all_inputs_values[\"ww_i_reportModelXsl\"],\n",
    "                \"ww_x_GPS\" : -1}\n",
    "    params.update(const_params)\n",
    "    return params\n",
    "\n",
    "def get_df_for_semester(year_str, semester_str, semester_dict):\n",
    "    params = make_params(year_str, semester_str, semester_dict)\n",
    "    \n",
    "    # If we want to cache our server requests (used for testing\n",
    "    # to avoid repeat requests to the server)\n",
    "    if CACHE:\n",
    "        CACHE_DIR = \"cache\"\n",
    "        \n",
    "        # Create directory if it doesn't exist\n",
    "        if not os.path.exists(CACHE_DIR):\n",
    "            os.makedirs(CACHE_DIR)\n",
    "        backup_path = os.path.join(CACHE_DIR, year_str + semester_str + \".bak\")        \n",
    "        \n",
    "        # If backup exists\n",
    "        if os.path.isfile(backup_path):\n",
    "            with open(backup_path, 'rb') as handle:\n",
    "                answer = pickle.load(handle)\n",
    "        else:\n",
    "            answer = requests.get(BASE_URL, params=params)\n",
    "            \n",
    "            # Create backup\n",
    "            with open(backup_path, 'wb') as handle:\n",
    "                pickle.dump(answer, handle)\n",
    "    # If we do not want to use cache\n",
    "    else:\n",
    "        answer = requests.get(BASE_URL, params=params)\n",
    "\n",
    "    answersoup = BeautifulSoup(answer.text, \"html.parser\")\n",
    "    lines = answersoup.body.table.find_all('tr')\n",
    "    \n",
    "    df = pd.DataFrame()\n",
    "    \n",
    "    # We assume we get a positive result if there are more than three lines\n",
    "    # because the student data starts on the fourth line\n",
    "    if len(lines) > 3:\n",
    "        lines = lines[3:]\n",
    "        items = []\n",
    "        for line in lines:\n",
    "            td_list = line.find_all(\"td\")\n",
    "            \n",
    "            ## We break if we encounter an error, for example HES passerelle. \n",
    "            ## We do not consider students coming from the HES passerelle as they arrive at EPFL only at the third semester.\n",
    "            if(len(td_list)) == 0:\n",
    "                break\n",
    "            items.append([th.text for th in td_list])\n",
    "\n",
    "        df = df.append(items)\n",
    "\n",
    "        # Keep: gender 0, name 1, specialization 4, minor 6, sciper 10\n",
    "        df = df[[0,1,4,6,10]]\n",
    "        sciper_index = [item[10] for item in items] \n",
    "        year_index = [year_str for item in items]\n",
    "        semester_index = [semester_str for item in items]\n",
    "        df.index = [sciper_index, year_index, semester_index]\n",
    "        df.columns = ['Gender', 'Name', 'Specialization', 'Minor', 'SCIPER']\n",
    "        df[\"Year\"] = year_str\n",
    "        df[\"Semester\"] = semester_str\n",
    "\n",
    "    return df\n",
    "\n",
    "# Check that Tim appears in the list!\n",
    "df_ex = get_df_for_semester(\"2013-2014\", \"Bachelor semestre 3\", bachelor_dict)\n",
    "df_ex.loc['223744']"
   ]
  },
  {
   "cell_type": "markdown",
   "metadata": {},
   "source": [
    "**Tim indeed shows up in our dataframe! Now let's request all of the Informatique bachelor data and concatenate it all into a single dataframe**"
   ]
  },
  {
   "cell_type": "code",
   "execution_count": null,
   "metadata": {
    "collapsed": false
   },
   "outputs": [],
   "source": [
    "# Concatenate all bachelor semesters\n",
    "dfs = []\n",
    "for year in year_dict:\n",
    "    for bachelor in bachelor_dict:\n",
    "        dfs.append(get_df_for_semester(year, bachelor, bachelor_dict))\n",
    "        \n",
    "df_bachelors = pd.concat(dfs)\n",
    "df_bachelors.sample(5)"
   ]
  },
  {
   "cell_type": "code",
   "execution_count": null,
   "metadata": {
    "collapsed": false
   },
   "outputs": [],
   "source": [
    "# Example, let's see Tim\n",
    "df_bachelors[df_bachelors['SCIPER']==\"223744\"].sort_values([\"Year\", \"Semester\"])"
   ]
  },
  {
   "cell_type": "code",
   "execution_count": null,
   "metadata": {
    "collapsed": false
   },
   "outputs": [],
   "source": [
    "# We check that the index is unique\n",
    "df_bachelors.index.is_unique"
   ]
  },
  {
   "cell_type": "code",
   "execution_count": null,
   "metadata": {
    "collapsed": false
   },
   "outputs": [],
   "source": [
    "## We check that we don't have any null values\n",
    "df_bachelors.isnull().sum()"
   ]
  },
  {
   "cell_type": "markdown",
   "metadata": {},
   "source": [
    "** Here we create two functions that will allow us to select only the students who have obtained their bachelor, and in how much time (in semesters) they did so **"
   ]
  },
  {
   "cell_type": "code",
   "execution_count": null,
   "metadata": {
    "collapsed": false
   },
   "outputs": [],
   "source": [
    "# returns true if the student has graduated\n",
    "def did_graduate(group):\n",
    "    return (group['Semester'] == \"Bachelor semestre 1\").any() and (group['Semester'] == 'Bachelor semestre 6').any()\n",
    "\n",
    "\n",
    "def grad_time_gender(group):\n",
    "        delta = group[\"Semester\"].count()\n",
    "        gender = group['Gender'][0]\n",
    "        return pd.Series([delta, gender], index=[\"Grad time\", \"Gender\"])\n",
    "\n",
    "# Get graduation time for all bachelor students\n",
    "graduation_time = df_bachelors.groupby(by=\"SCIPER\").apply(lambda x : grad_time_gender(x) if did_graduate(x) else None).dropna()\n",
    "graduation_time.sample(10)"
   ]
  },
  {
   "cell_type": "code",
   "execution_count": null,
   "metadata": {
    "collapsed": false
   },
   "outputs": [],
   "source": [
    "graduation_time.hist()"
   ]
  },
  {
   "cell_type": "markdown",
   "metadata": {},
   "source": [
    "** In this histogram we see that someone did their bachelor in 4 semesters! That should not be possible. We check. We also note that the histogram x axis looks a bit odd, as there seems to be a hole between semesters 7 and 8 and there isn't.**"
   ]
  },
  {
   "cell_type": "code",
   "execution_count": null,
   "metadata": {
    "collapsed": false,
    "scrolled": true
   },
   "outputs": [],
   "source": [
    "graduation_time[graduation_time[\"Grad time\"] == 4]\n",
    "df_bachelors.loc[\"204222\"]"
   ]
  },
  {
   "cell_type": "markdown",
   "metadata": {},
   "source": [
    "** This means that there is missing data, or maybe Monsieur Séguy changed sections and came back. He is the only outlier **  "
   ]
  },
  {
   "cell_type": "markdown",
   "metadata": {
    "collapsed": true
   },
   "source": [
    "**Now let's look at the gender bias**"
   ]
  },
  {
   "cell_type": "code",
   "execution_count": null,
   "metadata": {
    "collapsed": false
   },
   "outputs": [],
   "source": [
    "gender_mean_grad = graduation_time.groupby(\"Gender\").mean()\n",
    "gender_mean_grad"
   ]
  },
  {
   "cell_type": "markdown",
   "metadata": {},
   "source": [
    "**It appears that the female students graduate in slightly less time. But is the difference significant? We use the \"two sample T-Test\" to see if the difference in means is statistically significant, the null hypothesis being that the two means are identical. Because we know that the sample size is different for the two genders, and we don't know if the variance is the same, we use `equal_var=False` to apply \"Welch's t-test,\" which does not assume equal sample size or variance.**"
   ]
  },
  {
   "cell_type": "code",
   "execution_count": null,
   "metadata": {
    "collapsed": false
   },
   "outputs": [],
   "source": [
    "stats.ttest_ind(\n",
    "    a=graduation_time[graduation_time[\"Gender\"] == \"Madame\"][\"Grad time\"], \n",
    "    b=graduation_time[graduation_time[\"Gender\"] == \"Monsieur\"][\"Grad time\"], equal_var=False)"
   ]
  },
  {
   "cell_type": "markdown",
   "metadata": {},
   "source": [
    "**The statistical test reveals a pvalue of 0.24, which is too large to reject the null hypothesis. We have not found a statistically significant difference between genders.**"
   ]
  },
  {
   "cell_type": "markdown",
   "metadata": {},
   "source": [
    "# 2nd Part : Master students  "
   ]
  },
  {
   "cell_type": "markdown",
   "metadata": {},
   "source": [
    "**We now have to fetch the registration data for Master's students and put it in a new dataframe.**"
   ]
  },
  {
   "cell_type": "code",
   "execution_count": null,
   "metadata": {
    "collapsed": false
   },
   "outputs": [],
   "source": [
    "# Only keep options that contain \"Master\"\n",
    "master_options = [option for option in options if \"Master\" in option.text]\n",
    "master_options"
   ]
  },
  {
   "cell_type": "markdown",
   "metadata": {},
   "source": [
    "**We can ignore the other semester types: we do not take into account internships because they are usually away from EPFL**"
   ]
  },
  {
   "cell_type": "code",
   "execution_count": null,
   "metadata": {
    "collapsed": false
   },
   "outputs": [],
   "source": [
    "master_dict = {option.text : option[\"value\"] for option in master_options}\n",
    "master_dict"
   ]
  },
  {
   "cell_type": "code",
   "execution_count": null,
   "metadata": {
    "collapsed": false
   },
   "outputs": [],
   "source": [
    "get_df_for_semester(\"2015-2016\", \"Master semestre 1\", master_dict)"
   ]
  },
  {
   "cell_type": "markdown",
   "metadata": {},
   "source": [
    "**As before, we fetch the data for each semester and create a single dataframe**"
   ]
  },
  {
   "cell_type": "code",
   "execution_count": null,
   "metadata": {
    "collapsed": false
   },
   "outputs": [],
   "source": [
    "# Concatenate all master semesters\n",
    "dfs = []\n",
    "for year in year_dict:\n",
    "    for master in master_dict:\n",
    "        dfs.append(get_df_for_semester(year, master, master_dict))\n",
    "\n",
    "df_masters = pd.concat(dfs)\n",
    "df_masters.sample(5)"
   ]
  },
  {
   "cell_type": "markdown",
   "metadata": {},
   "source": [
    "**To calculate the average stay, we need to keep the records who have a Master Project, meaning that they finished their studies.**"
   ]
  },
  {
   "cell_type": "code",
   "execution_count": null,
   "metadata": {
    "collapsed": false
   },
   "outputs": [],
   "source": [
    "# Master projects\n",
    "df_masters[df_masters[\"Semester\"].str.contains(\"Projet\")]"
   ]
  },
  {
   "cell_type": "markdown",
   "metadata": {},
   "source": [
    "**There is definitely missing data, as only 128 Master Projects are registered, and most of them appear in 2016-2017. Indeed, looking at is-academia, some years contain no data for Master Projects. We conclude that we simply cannot simply use the Master Project to determine the end of the studies.**"
   ]
  },
  {
   "cell_type": "markdown",
   "metadata": {},
   "source": [
    "**Thus, to calculate the average stay, we use the following algorithm:**\n",
    "\n",
    "* discard record if no \"Master semestre 2\"\n",
    "* discard record if exists \"Spécialisation\" or \"Mineur\" but no \"Master semestre 3\"\n",
    "* calculate the delta between last and first semester\n",
    "* add 6 months if student has no record of a \"Master project\""
   ]
  },
  {
   "cell_type": "code",
   "execution_count": null,
   "metadata": {
    "collapsed": false
   },
   "outputs": [],
   "source": [
    "len(df_masters)"
   ]
  },
  {
   "cell_type": "code",
   "execution_count": null,
   "metadata": {
    "collapsed": false
   },
   "outputs": [],
   "source": [
    "# A function to find people that we consider to have finished their master\n",
    "def finished_master(group):\n",
    "    # Drop if no \"Master semestre 1\" or no \"Master semester 2\"\n",
    "    if not ((group['Semester'].isin([\"Master semestre 1\"])).any() and (group['Semester'].isin([\"Master semestre 2\"])).any()):\n",
    "        return False\n",
    "    # Drop if has a Specialization or a Minor, but no \"Master semestre 3\"\n",
    "    if group['Specialization'].any() or group['Minor'].any():\n",
    "        if not (group['Semester'].isin([\"Master semestre 3\"])).any():\n",
    "            return False\n",
    "    \n",
    "    return True\n",
    "         \n",
    "df_masters_finished = df_masters.groupby(by=\"SCIPER\").filter(finished_master)"
   ]
  },
  {
   "cell_type": "code",
   "execution_count": null,
   "metadata": {
    "collapsed": false
   },
   "outputs": [],
   "source": [
    "print(len(df_masters), len(df_masters_finished))"
   ]
  },
  {
   "cell_type": "code",
   "execution_count": null,
   "metadata": {
    "collapsed": false
   },
   "outputs": [],
   "source": [
    "# Calculates the number of semesters. \n",
    "def master_time(group):\n",
    "    delta = len(group['Semester'])\n",
    "    \n",
    "    # We add a semester if no entry for a \"Projet Master\"\n",
    "    if not (group['Semester'].isin([\"Projet Master automne\", \"Projet Master printemps\"])).any():\n",
    "        delta += 1 \n",
    "    \n",
    "    return delta\n",
    "\n",
    "master_stay_semesters = df_masters_finished.groupby(by=\"SCIPER\").apply(master_time)\n",
    "master_stay_semesters.head(10)"
   ]
  },
  {
   "cell_type": "markdown",
   "metadata": {},
   "source": [
    "**Let's see if our algorithm gives reasonable results! The describe() function is always useful to see if anything crazy is happening**"
   ]
  },
  {
   "cell_type": "code",
   "execution_count": null,
   "metadata": {
    "collapsed": false
   },
   "outputs": [],
   "source": [
    "master_stay_semesters.describe()"
   ]
  },
  {
   "cell_type": "code",
   "execution_count": null,
   "metadata": {
    "collapsed": false
   },
   "outputs": [],
   "source": [
    "# We check for people who did 8 semesters\n",
    "master_stay_semesters[master_stay_semesters == 8]"
   ]
  },
  {
   "cell_type": "markdown",
   "metadata": {},
   "source": [
    "**We check one of the 8-semester students to see what they have been up to.**"
   ]
  },
  {
   "cell_type": "code",
   "execution_count": null,
   "metadata": {
    "collapsed": false
   },
   "outputs": [],
   "source": [
    "df_masters.loc[\"181244\"]"
   ]
  },
  {
   "cell_type": "markdown",
   "metadata": {},
   "source": [
    "**It's time to create a histogram of the average stay**"
   ]
  },
  {
   "cell_type": "code",
   "execution_count": null,
   "metadata": {
    "collapsed": false,
    "scrolled": true
   },
   "outputs": [],
   "source": [
    "master_stay_semesters.hist()"
   ]
  },
  {
   "cell_type": "markdown",
   "metadata": {},
   "source": [
    "**So the average stay at epfl for master students is:**"
   ]
  },
  {
   "cell_type": "code",
   "execution_count": null,
   "metadata": {
    "collapsed": false
   },
   "outputs": [],
   "source": [
    "print(\"{0:.2f} semesters\".format(master_stay_semesters.mean()))"
   ]
  },
  {
   "cell_type": "markdown",
   "metadata": {},
   "source": [
    "**Now we calculate the average stay for each specialization offered by the department.**"
   ]
  },
  {
   "cell_type": "code",
   "execution_count": null,
   "metadata": {
    "collapsed": false
   },
   "outputs": [],
   "source": [
    "# Returns True if has Specialization\n",
    "def has_spec(group):\n",
    "    return bool(group['Specialization'].any())\n",
    "\n",
    "# Calculate master time and find specialization\n",
    "def master_time_spec(group):\n",
    "    delta = master_time(group)\n",
    "    \n",
    "    # Replace empty cells with Nan so we can drop them\n",
    "    specs = group[\"Specialization\"].replace(\"\", np.nan)\n",
    "    specs = specs.dropna()\n",
    "    return pd.Series([delta, specs[0]], index=[\"Master stay\", \"Specialization\"])\n",
    "\n",
    "df_masters_spec = df_masters_finished.groupby(by=\"SCIPER\").filter(has_spec)\n",
    "df_masters_spec = df_masters_spec.groupby(by=\"SCIPER\").apply(master_time_spec)"
   ]
  },
  {
   "cell_type": "code",
   "execution_count": null,
   "metadata": {
    "collapsed": false
   },
   "outputs": [],
   "source": [
    "print(\"Number of students with specializations: %d\" % len(df_masters_spec))"
   ]
  },
  {
   "cell_type": "code",
   "execution_count": null,
   "metadata": {
    "collapsed": false
   },
   "outputs": [],
   "source": [
    "spec_avg = df_masters_spec.groupby(by=\"Specialization\").mean()\n",
    "spec_avg.sort_values(by=\"Master stay\").plot(kind=\"bar\").axhline(y=master_stay_semesters.mean(), color='red')"
   ]
  },
  {
   "cell_type": "markdown",
   "metadata": {},
   "source": [
    "** Here we see that people who take a specilalization usually take more time than the general average (in red), which is expected** "
   ]
  },
  {
   "cell_type": "code",
   "execution_count": null,
   "metadata": {
    "collapsed": false
   },
   "outputs": [],
   "source": [
    "# Before doing any statistical tests, we check that we have enough entries for each specialization\n",
    "df_masters_spec.groupby(by=\"Specialization\").count()"
   ]
  },
  {
   "cell_type": "markdown",
   "metadata": {},
   "source": [
    "**Now let's compare each specialization with the general dataset to see if there is a statistical difference between the means. We use Welch's t-test again because we don't want to assume anything about the sample size or variance of each specialization. Some of the specializations have too few students to use statistical tests so we do not consider them.**"
   ]
  },
  {
   "cell_type": "code",
   "execution_count": null,
   "metadata": {
    "collapsed": false
   },
   "outputs": [],
   "source": [
    "def compare_spe_general(spe):\n",
    "    # We consider only specializations where at least 5 people have graduated from.  \n",
    "    if len(spe) <= 5:\n",
    "        return None\n",
    "    return stats.ttest_ind(a=spe[\"Master stay\"], b=master_stay_semesters, equal_var=False)[1] # we output the p-value \n",
    "\n",
    "# Run statistical tests on each specialization; drop NaN results\n",
    "df_masters_spec.groupby(by=\"Specialization\").apply(compare_spe_general).dropna().sort_values()"
   ]
  },
  {
   "cell_type": "markdown",
   "metadata": {},
   "source": [
    "** We see that some specializations have a statistically significant difference with the overall mean. For example for a confidence level of at least 95% \"Foundations of Software\", \"Internet Computing\", \"Signals, Images and Interfaces\", and \"Computer Engineering - SP\" would stand out. We must be careful though because some of these specializations have a small sample size.**"
   ]
  },
  {
   "cell_type": "markdown",
   "metadata": {},
   "source": [
    "## BONUS: We perform the same gender-based study from Part 1 but with Master's students this time. ##"
   ]
  },
  {
   "cell_type": "code",
   "execution_count": null,
   "metadata": {
    "collapsed": false
   },
   "outputs": [],
   "source": [
    "# First, convert length of stay data to dataframe\n",
    "df_stay = master_stay_semesters.to_frame()\n",
    "df_stay.columns = ['Master stay']\n",
    "df_stay.head()"
   ]
  },
  {
   "cell_type": "markdown",
   "metadata": {},
   "source": [
    "**We extract each student's starting year year as an integer to use for the plot. Then we create a dataframe with the year, the gender, and the mean stay length for students of that gender who started in that year.**"
   ]
  },
  {
   "cell_type": "code",
   "execution_count": null,
   "metadata": {
    "collapsed": false
   },
   "outputs": [],
   "source": [
    "def get_start_year(group):\n",
    "    return group['Year'].first()\n",
    "    \n",
    "# Get a row from each finished student's first year so that we can plot stay length vs. start year\n",
    "finished_start_year = df_masters_finished.sort_values(by='Year').groupby('SCIPER').apply(lambda g:int(g['Year'].min().split('-')[0]))\n",
    "finished_start_year = finished_start_year.to_frame()\n",
    "finished_start_year.columns = ['Start year']\n",
    "finished_start_year.head()\n",
    "\n",
    "# Join then groupby to get the mean stay length for a given (startYear,gender)\n",
    "df_stay_by_year_gender = df_masters_finished.join(finished_start_year, on='SCIPER')\n",
    "df_stay_by_year_gender = df_stay_by_year_gender.join(df_stay,on='SCIPER')\n",
    "mean_year_gender = df_stay_by_year_gender.groupby(['Start year', 'Gender']).mean()\n",
    "mean_year_gender"
   ]
  },
  {
   "cell_type": "code",
   "execution_count": null,
   "metadata": {
    "collapsed": false
   },
   "outputs": [],
   "source": [
    "# Unstack the genders to get the \n",
    "myg = mean_year_gender.unstack()\n",
    "myg\n",
    "# TODO scatter plot!"
   ]
  },
  {
   "cell_type": "markdown",
   "metadata": {},
   "source": [
    "**We didn't have time to make a scatter plot but can compare the trends over time between the two genders with this table!**"
   ]
  },
  {
   "cell_type": "code",
   "execution_count": null,
   "metadata": {
    "collapsed": true
   },
   "outputs": [],
   "source": []
  }
 ],
 "metadata": {
  "anaconda-cloud": {},
  "kernelspec": {
   "display_name": "Python [Root]",
   "language": "python",
   "name": "Python [Root]"
  },
  "language_info": {
   "codemirror_mode": {
    "name": "ipython",
    "version": 3
   },
   "file_extension": ".py",
   "mimetype": "text/x-python",
   "name": "python",
   "nbconvert_exporter": "python",
   "pygments_lexer": "ipython3",
   "version": "3.5.2"
  }
 },
 "nbformat": 4,
 "nbformat_minor": 1
}
