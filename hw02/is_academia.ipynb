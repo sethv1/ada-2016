{
 "cells": [
  {
   "cell_type": "code",
   "execution_count": null,
   "metadata": {
    "collapsed": true
   },
   "outputs": [],
   "source": [
    "from bs4 import BeautifulSoup\n",
    "import requests\n",
    "import pickle\n",
    "import os.path"
   ]
  },
  {
   "cell_type": "code",
   "execution_count": null,
   "metadata": {
    "collapsed": true
   },
   "outputs": [],
   "source": [
    "# Try to cache the data with pickle if set to True\n",
    "CACHE = True"
   ]
  },
  {
   "cell_type": "code",
   "execution_count": null,
   "metadata": {
    "collapsed": false
   },
   "outputs": [],
   "source": [
    "# We use the form URL of public is academia\n",
    "req = requests.get('http://isa.epfl.ch/imoniteur_ISAP/!GEDPUBLICREPORTS.filter?ww_i_reportModel=133685247')"
   ]
  },
  {
   "cell_type": "code",
   "execution_count": null,
   "metadata": {
    "collapsed": false
   },
   "outputs": [],
   "source": [
    "main = BeautifulSoup(req.text, 'html.parser')"
   ]
  },
  {
   "cell_type": "code",
   "execution_count": null,
   "metadata": {
    "collapsed": false
   },
   "outputs": [],
   "source": [
    "print(main.body.prettify())"
   ]
  },
  {
   "cell_type": "markdown",
   "metadata": {},
   "source": [
    "**We can see that the Unité académique/Academic Unit input has the name `zz_x_UNITE_ACAD` and consists of one option for each section.**"
   ]
  },
  {
   "cell_type": "code",
   "execution_count": null,
   "metadata": {
    "collapsed": false
   },
   "outputs": [],
   "source": [
    "# Find the Unité académique element in the form\n",
    "unit = main.find(attrs={\"name\": \"zz_x_UNITE_ACAD\"})\n",
    "print(unit.prettify())"
   ]
  },
  {
   "cell_type": "markdown",
   "metadata": {},
   "source": [
    "**We can easily extract the 'value' (section id) for the Informatique section using BeautifulSoup:**"
   ]
  },
  {
   "cell_type": "code",
   "execution_count": null,
   "metadata": {
    "collapsed": false
   },
   "outputs": [],
   "source": [
    "# We use soup.find instead of soup.find_all because we can see\n",
    "# that each unit has a unique name.\n",
    "unit_IN_option = unit.find(text=\"Informatique\")\n",
    "unit_IN_id = unit_IN_option.parent['value']\n",
    "unit_IN_id"
   ]
  },
  {
   "cell_type": "code",
   "execution_count": null,
   "metadata": {
    "collapsed": false
   },
   "outputs": [],
   "source": [
    "period = main.find(attrs={\"name\": \"zz_x_PERIODE_ACAD\"})\n",
    "print(period.prettify())"
   ]
  },
  {
   "cell_type": "code",
   "execution_count": null,
   "metadata": {
    "collapsed": false
   },
   "outputs": [],
   "source": [
    "period_options = period.find_all(\"option\")"
   ]
  },
  {
   "cell_type": "code",
   "execution_count": null,
   "metadata": {
    "collapsed": false
   },
   "outputs": [],
   "source": [
    "for option in period_options:\n",
    "    print(option['value'])"
   ]
  },
  {
   "cell_type": "markdown",
   "metadata": {},
   "source": [
    "**We can get rid of the first one which is null**"
   ]
  },
  {
   "cell_type": "code",
   "execution_count": null,
   "metadata": {
    "collapsed": true
   },
   "outputs": [],
   "source": [
    "period_options = period_options[1:]"
   ]
  },
  {
   "cell_type": "code",
   "execution_count": null,
   "metadata": {
    "collapsed": false
   },
   "outputs": [],
   "source": [
    "# Create a dict mapping year period to period id \n",
    "year_dict = {option.text : option[\"value\"] for option in period_options}\n",
    "year_dict"
   ]
  },
  {
   "cell_type": "code",
   "execution_count": null,
   "metadata": {
    "collapsed": false
   },
   "outputs": [],
   "source": [
    "semester = main.find(attrs={\"name\": \"zz_x_PERIODE_PEDAGO\"})\n",
    "print(semester.prettify())"
   ]
  },
  {
   "cell_type": "code",
   "execution_count": null,
   "metadata": {
    "collapsed": false
   },
   "outputs": [],
   "source": [
    "options = semester.find_all(\"option\")\n",
    "options"
   ]
  },
  {
   "cell_type": "code",
   "execution_count": null,
   "metadata": {
    "collapsed": false
   },
   "outputs": [],
   "source": [
    "# Only keep options that contain \"Bachelor\"\n",
    "bachelor_options = [option for option in options if \"Bachelor\" in option.text]\n",
    "bachelor_options"
   ]
  },
  {
   "cell_type": "code",
   "execution_count": null,
   "metadata": {
    "collapsed": false
   },
   "outputs": [],
   "source": [
    "# Create a dict mapping semester number to semester id \n",
    "bachelor_dict = {option.text : option[\"value\"] for option in bachelor_options}\n",
    "bachelor_dict"
   ]
  },
  {
   "cell_type": "markdown",
   "metadata": {},
   "source": [
    "Now we have enough parameters to try to do a request to the request url. We found it using postman, it's a simple \"get\" request on `http://isa.epfl.ch/imoniteur_ISAP/!GEDPUBLICREPORTS.bhtml`. We analysed the request and the field names are the same as the `input` names, but with leading `ww` instead of `zz`, for instance: `zz_x_UNITE_ACAD` becomes `ww_x_UNITE_ACAD`."
   ]
  },
  {
   "cell_type": "code",
   "execution_count": null,
   "metadata": {
    "collapsed": true
   },
   "outputs": [],
   "source": [
    "BASE_URL = \"http://isa.epfl.ch/imoniteur_ISAP/!GEDPUBLICREPORTS.html\""
   ]
  },
  {
   "cell_type": "code",
   "execution_count": null,
   "metadata": {
    "collapsed": false
   },
   "outputs": [],
   "source": [
    "fields = {\"unit\": \"ww_x_UNITE_ACAD\", \"year\": \"ww_x_PERIODE_ACAD\", \"semester\": \"ww_x_PERIODE_PEDAGO\"}\n",
    "fields"
   ]
  },
  {
   "cell_type": "markdown",
   "metadata": {},
   "source": [
    "**Let's try to do a request of the Bachelor semester 1 for 2016-2017**"
   ]
  },
  {
   "cell_type": "code",
   "execution_count": null,
   "metadata": {
    "collapsed": false
   },
   "outputs": [],
   "source": [
    "params = {fields[\"unit\"] : unit_IN_id, fields[\"year\"] : year_dict[\"2016-2017\"], fields[\"semester\"] : bachelor_dict[\"Bachelor semestre 1\"]}\n",
    "params"
   ]
  },
  {
   "cell_type": "code",
   "execution_count": null,
   "metadata": {
    "collapsed": false
   },
   "outputs": [],
   "source": [
    "answer = requests.get(BASE_URL, params=params)\n",
    "answer.status_code"
   ]
  },
  {
   "cell_type": "code",
   "execution_count": null,
   "metadata": {
    "collapsed": false
   },
   "outputs": [],
   "source": [
    "answer.text"
   ]
  },
  {
   "cell_type": "markdown",
   "metadata": {},
   "source": [
    "**We get a 404: we need more fields to have a correct query. We noticed on postman that we needed three other fields, that we're going to get from the form**"
   ]
  },
  {
   "cell_type": "code",
   "execution_count": null,
   "metadata": {
    "collapsed": false
   },
   "outputs": [],
   "source": [
    "all_inputs = main.body.find_all(\"input\")\n",
    "all_inputs_values = {inp[\"name\"] : inp[\"value\"] for inp in all_inputs}\n",
    "print(all_inputs_values)"
   ]
  },
  {
   "cell_type": "markdown",
   "metadata": {},
   "source": [
    "**We see on postman that the additional fields we need are `ww_i_reportmodel`, `ww_i_reportModelXsl.`** Let's try again"
   ]
  },
  {
   "cell_type": "code",
   "execution_count": null,
   "metadata": {
    "collapsed": true
   },
   "outputs": [],
   "source": [
    "params[\"ww_i_reportmodel\"] = all_inputs_values[\"ww_i_reportmodel\"]\n",
    "params[\"ww_i_reportModelXsl\"] = all_inputs_values[\"ww_i_reportModelXsl\"]"
   ]
  },
  {
   "cell_type": "code",
   "execution_count": null,
   "metadata": {
    "collapsed": false
   },
   "outputs": [],
   "source": [
    "params"
   ]
  },
  {
   "cell_type": "code",
   "execution_count": null,
   "metadata": {
    "collapsed": false
   },
   "outputs": [],
   "source": [
    "answer = requests.get(BASE_URL, params=params)\n",
    "answer.status_code"
   ]
  },
  {
   "cell_type": "code",
   "execution_count": null,
   "metadata": {
    "collapsed": false
   },
   "outputs": [],
   "source": [
    "answersoup = BeautifulSoup(answer.text, \"html.parser\")\n",
    "print(answersoup.prettify())"
   ]
  },
  {
   "cell_type": "markdown",
   "metadata": {},
   "source": [
    "**Even though we get a 200, this is still not the output we need. One last parameter is missing, but it is not in the form as an input. By inspecting our postman requests, we noticed that `ww_x_GPS` is included.**"
   ]
  },
  {
   "cell_type": "code",
   "execution_count": null,
   "metadata": {
    "collapsed": false
   },
   "outputs": [],
   "source": [
    "# For now we just put it to -1\n",
    "params[\"ww_x_GPS\"] = -1"
   ]
  },
  {
   "cell_type": "code",
   "execution_count": null,
   "metadata": {
    "collapsed": false
   },
   "outputs": [],
   "source": [
    "answer = requests.get(BASE_URL, params=params)\n",
    "answer.status_code"
   ]
  },
  {
   "cell_type": "code",
   "execution_count": null,
   "metadata": {
    "collapsed": false
   },
   "outputs": [],
   "source": [
    "answersoup = BeautifulSoup(answer.text, \"html.parser\")\n",
    "print(answersoup.prettify())"
   ]
  },
  {
   "cell_type": "markdown",
   "metadata": {},
   "source": [
    "** It works!**"
   ]
  },
  {
   "cell_type": "code",
   "execution_count": null,
   "metadata": {
    "collapsed": true
   },
   "outputs": [],
   "source": [
    "import pandas as pd"
   ]
  },
  {
   "cell_type": "code",
   "execution_count": null,
   "metadata": {
    "collapsed": false
   },
   "outputs": [],
   "source": [
    "lines = answersoup.body.table.find_all('tr')\n",
    "print(\"\\n=============\\n\".join([str(line) for line in lines[:5]]))"
   ]
  },
  {
   "cell_type": "code",
   "execution_count": null,
   "metadata": {
    "collapsed": false
   },
   "outputs": [],
   "source": [
    "lines[-1]"
   ]
  },
  {
   "cell_type": "markdown",
   "metadata": {},
   "source": [
    "**We can see that all lines except the three first ones correspond to students. Let's discard the first two.**"
   ]
  },
  {
   "cell_type": "code",
   "execution_count": null,
   "metadata": {
    "collapsed": false
   },
   "outputs": [],
   "source": [
    "header = lines[2]\n",
    "lines = lines[3:]"
   ]
  },
  {
   "cell_type": "code",
   "execution_count": null,
   "metadata": {
    "collapsed": false
   },
   "outputs": [],
   "source": [
    "header"
   ]
  },
  {
   "cell_type": "markdown",
   "metadata": {},
   "source": [
    "**We are interested in \"Civilité\" (gender) and \"No Sciper\". They have index `0` and `10` TODO update this description**"
   ]
  },
  {
   "cell_type": "code",
   "execution_count": null,
   "metadata": {
    "collapsed": false
   },
   "outputs": [],
   "source": [
    "df = pd.DataFrame()\n",
    "items = []\n",
    "for line in lines:\n",
    "    td_list = line.find_all(\"td\")\n",
    "    items.append([th.text for th in td_list])\n",
    "    \n",
    "df = df.append(items)#[[item[0]] for item in items])\n",
    "\n",
    "# Keep: gender 0, name 1, specialization 4, minor 6, sciper 10\n",
    "df = df[[0,1,4,6,10]]\n",
    "df.columns = ['Gender', 'Name', 'Specialization', 'Minor', 'SCIPER']\n",
    "df.index = [item[10] for item in items]"
   ]
  },
  {
   "cell_type": "code",
   "execution_count": null,
   "metadata": {
    "collapsed": false
   },
   "outputs": [],
   "source": [
    "df.sample(10)"
   ]
  },
  {
   "cell_type": "code",
   "execution_count": null,
   "metadata": {
    "collapsed": false
   },
   "outputs": [],
   "source": [
    "df.index.is_unique"
   ]
  },
  {
   "cell_type": "markdown",
   "metadata": {},
   "source": [
    "**Sciper is unique, as it should be.**"
   ]
  },
  {
   "cell_type": "code",
   "execution_count": null,
   "metadata": {
    "collapsed": false
   },
   "outputs": [],
   "source": [
    "df.groupby(\"Gender\")[\"Gender\"].count()"
   ]
  },
  {
   "cell_type": "markdown",
   "metadata": {
    "collapsed": true
   },
   "source": [
    "**TODO: description and comments of the below functions which create a dataframe for each semester**"
   ]
  },
  {
   "cell_type": "code",
   "execution_count": null,
   "metadata": {
    "collapsed": false
   },
   "outputs": [],
   "source": [
    "def make_params(year_str, semester_str):\n",
    "    params = {\n",
    "          fields[\"year\"] : year_dict[year_str],\n",
    "          fields[\"semester\"] : bachelor_dict[semester_str]}\n",
    "    const_params = {fields[\"unit\"] : unit_IN_id, \n",
    "                \"ww_i_reportmodel\" : all_inputs_values[\"ww_i_reportmodel\"],\n",
    "                \"ww_i_reportModelXsl\" : all_inputs_values[\"ww_i_reportModelXsl\"],\n",
    "                \"ww_x_GPS\" : -1}\n",
    "    params.update(const_params)\n",
    "    return params\n",
    "\n",
    "def get_df_for_semester(year_str, semester_str):\n",
    "    params = make_params(year_str, semester_str)\n",
    "    \n",
    "    # If we want to use cache\n",
    "    if CACHE:\n",
    "        backup_path = os.path.join(\"cache\", year_str + semester_str + \".bak\")\n",
    "        \n",
    "        # If backup exists\n",
    "        if os.path.isfile(backup_path):\n",
    "            with open(backup_path, 'rb') as handle:\n",
    "                answer = pickle.load(handle)\n",
    "        else:\n",
    "            answer = requests.get(BASE_URL, params=params)\n",
    "            \n",
    "            # Create backup\n",
    "            with open(backup_path, 'wb') as handle:\n",
    "                pickle.dump(answer, handle)\n",
    "    # If we do not want to use cache\n",
    "    else:\n",
    "        answer = requests.get(BASE_URL, params=params)\n",
    "\n",
    "    answersoup = BeautifulSoup(answer.text, \"html.parser\")\n",
    "    lines = answersoup.body.table.find_all('tr')\n",
    "    \n",
    "    df = pd.DataFrame()\n",
    "    \n",
    "    # We assume we get a positive result if there are more than three lines\n",
    "    # because the student data starts on the fourth line\n",
    "    if len(lines) > 3:\n",
    "        lines = lines[3:]\n",
    "        items = []\n",
    "        for line in lines:\n",
    "            td_list = line.find_all(\"td\")\n",
    "            items.append([th.text for th in td_list])\n",
    "\n",
    "        df = df.append(items)\n",
    "\n",
    "        # Keep: gender 0, name 1, specialization 4, minor 6, sciper 10\n",
    "        df = df[[0,1,4,6,10]]\n",
    "        print(items[0][10])\n",
    "        df.index = [item[10] for item in items]\n",
    "        df.columns = ['Gender', 'Name', 'Specialization', 'Minor', 'SCIPER']\n",
    "        df[\"Year\"] = year_str\n",
    "        df[\"Semester\"] = semester_str\n",
    "\n",
    "    return df\n",
    "\n",
    "# Check that Tim appears in the list!\n",
    "df_ex = get_df_for_semester(\"2013-2014\", \"Bachelor semestre 3\")\n",
    "df_ex.loc['223744']"
   ]
  },
  {
   "cell_type": "code",
   "execution_count": null,
   "metadata": {
    "collapsed": false
   },
   "outputs": [],
   "source": [
    "df1 = get_df_for_semester(\"2013-2014\", \"Bachelor semestre 1\")\n",
    "df2 = get_df_for_semester(\"2014-2015\", \"Bachelor semestre 2\")\n",
    "df3 = pd.concat([df1, df2])\n",
    "df3.sample(10)"
   ]
  },
  {
   "cell_type": "code",
   "execution_count": null,
   "metadata": {
    "collapsed": false
   },
   "outputs": [],
   "source": [
    "dfs = []\n",
    "try:\n",
    "    for year in year_dict:\n",
    "        for bachelor in bachelor_dict:\n",
    "            dfs.append(get_df_for_semester(year, bachelor))\n",
    "except:\n",
    "    print(year, bachelor)\n",
    "        \n",
    "df_all = pd.concat(dfs)\n",
    "df_all.sample(10)"
   ]
  },
  {
   "cell_type": "code",
   "execution_count": null,
   "metadata": {
    "collapsed": false
   },
   "outputs": [],
   "source": [
    "get_df_for_semester(\"2008-2009\", \"Bachelor semestre 4\")"
   ]
  },
  {
   "cell_type": "code",
   "execution_count": null,
   "metadata": {
    "collapsed": true
   },
   "outputs": [],
   "source": []
  }
 ],
 "metadata": {
  "anaconda-cloud": {},
  "kernelspec": {
   "display_name": "Python [default]",
   "language": "python",
   "name": "python3"
  },
  "language_info": {
   "codemirror_mode": {
    "name": "ipython",
    "version": 3
   },
   "file_extension": ".py",
   "mimetype": "text/x-python",
   "name": "python",
   "nbconvert_exporter": "python",
   "pygments_lexer": "ipython3",
   "version": "3.5.2"
  }
 },
 "nbformat": 4,
 "nbformat_minor": 1
}
