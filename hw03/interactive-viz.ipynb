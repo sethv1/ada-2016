{
 "cells": [
  {
   "cell_type": "code",
   "execution_count": null,
   "metadata": {
    "collapsed": false
   },
   "outputs": [],
   "source": [
    "import folium\n",
    "import pandas as pd\n",
    "import numpy as np\n",
    "import requests\n",
    "%matplotlib inline"
   ]
  },
  {
   "cell_type": "markdown",
   "metadata": {},
   "source": [
    "## Data inspection"
   ]
  },
  {
   "cell_type": "markdown",
   "metadata": {},
   "source": [
    "**We start out by reading in the data and examining the fields we are about to use**"
   ]
  },
  {
   "cell_type": "code",
   "execution_count": null,
   "metadata": {
    "collapsed": false,
    "scrolled": false
   },
   "outputs": [],
   "source": [
    "df = pd.read_csv(\"P3_GrantExport.csv\", sep=\";\", index_col=0)\n",
    "df.sample(5)"
   ]
  },
  {
   "cell_type": "markdown",
   "metadata": {},
   "source": [
    "**We only keep the necessary columns**"
   ]
  },
  {
   "cell_type": "code",
   "execution_count": null,
   "metadata": {
    "collapsed": false
   },
   "outputs": [],
   "source": [
    "wanted_columns = [\"Project Title\", \"Funding Instrument\", \"Institution\", \"University\", \"Start Date\", \"End Date\", \"Approved Amount\"]\n",
    "df = df[wanted_columns]\n",
    "df.sample(3)"
   ]
  },
  {
   "cell_type": "markdown",
   "metadata": {},
   "source": [
    "**Let's check if there are missing values in the Approved Amount column.**"
   ]
  },
  {
   "cell_type": "code",
   "execution_count": null,
   "metadata": {
    "collapsed": false
   },
   "outputs": [],
   "source": [
    "print(\"%d approved amounts are NaN\" % pd.isnull(df['Approved Amount']).sum())"
   ]
  },
  {
   "cell_type": "markdown",
   "metadata": {},
   "source": [
    "**However we see that some entries are denoted with a \"data not included in P3\" string**"
   ]
  },
  {
   "cell_type": "code",
   "execution_count": null,
   "metadata": {
    "collapsed": false
   },
   "outputs": [],
   "source": [
    "df.loc[121043][\"Approved Amount\"]"
   ]
  },
  {
   "cell_type": "code",
   "execution_count": null,
   "metadata": {
    "collapsed": false
   },
   "outputs": [],
   "source": [
    "missing_amount_count = (df[\"Approved Amount\"] == \"data not included in P3\").sum()\n",
    "print(\"{0:.2f}% of approved amounts missing\".format(100.0*missing_amount_count / len(df)))"
   ]
  },
  {
   "cell_type": "markdown",
   "metadata": {},
   "source": [
    "**There's about 1/6th of the data with missing approved amounts. We have no other option than dropping them**"
   ]
  },
  {
   "cell_type": "code",
   "execution_count": null,
   "metadata": {
    "collapsed": false
   },
   "outputs": [],
   "source": [
    "# Sanity check to see if all missing values are denoted with \"data not included in P3\"\n",
    "missing_amounts = pd.to_numeric(df[\"Approved Amount\"], errors=\"coerce\").isnull()\n",
    "# Check that \n",
    "pd.to_numeric(missing_amounts).sum() == missing_amount_count"
   ]
  },
  {
   "cell_type": "markdown",
   "metadata": {},
   "source": [
    "** After inspecting the rows with missing data, it looks like most of the Institutions are not located in Switzerland. It is also indicated on the documentation page that all mobility fellowship are missing.**"
   ]
  },
  {
   "cell_type": "code",
   "execution_count": null,
   "metadata": {
    "collapsed": false
   },
   "outputs": [],
   "source": [
    "df[missing_amounts].groupby(\"Institution\").count().sample(5)"
   ]
  },
  {
   "cell_type": "markdown",
   "metadata": {},
   "source": [
    "**The documentation says that this field is missing for mobility, but we notice that there are other Funding Instruments like \"Fellowships for prospective researchers\" which lack many Amount values.** "
   ]
  },
  {
   "cell_type": "code",
   "execution_count": null,
   "metadata": {
    "collapsed": false
   },
   "outputs": [],
   "source": [
    "df[missing_amounts].groupby(\"Funding Instrument\").count()"
   ]
  },
  {
   "cell_type": "code",
   "execution_count": null,
   "metadata": {
    "collapsed": false
   },
   "outputs": [],
   "source": [
    "# Dropping project with missing Amounts\n",
    "print(\"Length before drop: \", len(df))\n",
    "df = df[~missing_amounts]\n",
    "print(\"Length after drop: \", len(df))"
   ]
  },
  {
   "cell_type": "markdown",
   "metadata": {},
   "source": [
    "**We see that there are zero-values approved amount. Also, the maximum is 100x bigger than the median**"
   ]
  },
  {
   "cell_type": "code",
   "execution_count": null,
   "metadata": {
    "collapsed": false
   },
   "outputs": [],
   "source": [
    "df[\"Approved Amount\"] = pd.to_numeric(df[\"Approved Amount\"])\n",
    "df[\"Approved Amount\"].describe()"
   ]
  },
  {
   "cell_type": "code",
   "execution_count": null,
   "metadata": {
    "collapsed": false
   },
   "outputs": [],
   "source": [
    "# Biggest project\n",
    "df[df[\"Approved Amount\"] == df[\"Approved Amount\"].max()]"
   ]
  },
  {
   "cell_type": "markdown",
   "metadata": {},
   "source": [
    "**Now we look at projects with zero fundings**"
   ]
  },
  {
   "cell_type": "code",
   "execution_count": null,
   "metadata": {
    "collapsed": false,
    "scrolled": true
   },
   "outputs": [],
   "source": [
    "zero_amount_pj = df[df[\"Approved Amount\"] == 0]\n",
    "zero_amount_pj.sample(5)"
   ]
  },
  {
   "cell_type": "markdown",
   "metadata": {},
   "source": [
    "**There are only 87 of them**"
   ]
  },
  {
   "cell_type": "code",
   "execution_count": null,
   "metadata": {
    "collapsed": false
   },
   "outputs": [],
   "source": [
    "len(zero_amount_pj)"
   ]
  },
  {
   "cell_type": "markdown",
   "metadata": {},
   "source": [
    "**There is a gap in the project numbering, let's see if there is also a gap in the dates (missing period)**"
   ]
  },
  {
   "cell_type": "code",
   "execution_count": null,
   "metadata": {
    "collapsed": false
   },
   "outputs": [],
   "source": [
    "df[\"Approved Amount\"].plot()"
   ]
  },
  {
   "cell_type": "code",
   "execution_count": null,
   "metadata": {
    "collapsed": false
   },
   "outputs": [],
   "source": [
    "# Parse the dates into datetime format\n",
    "df[\"Start Date\"] = pd.to_datetime(df[\"Start Date\"])\n",
    "df[\"End Date\"] = pd.to_datetime(df[\"End Date\"])"
   ]
  },
  {
   "cell_type": "code",
   "execution_count": null,
   "metadata": {
    "collapsed": false
   },
   "outputs": [],
   "source": [
    "# Plotting the years\n",
    "df[\"Start Date\"].apply(lambda d: d.year).plot()"
   ]
  },
  {
   "cell_type": "markdown",
   "metadata": {},
   "source": [
    "**From our crude analysis, we can see that the data looks inconsistent before 1990, and that the project numbering changed around 2004 but the data looks complete from 1990 to today**"
   ]
  },
  {
   "cell_type": "code",
   "execution_count": null,
   "metadata": {
    "collapsed": false,
    "scrolled": true
   },
   "outputs": [],
   "source": [
    "df[\"End Date\"].apply(lambda d: d.year).plot()"
   ]
  },
  {
   "cell_type": "code",
   "execution_count": null,
   "metadata": {
    "collapsed": true
   },
   "outputs": [],
   "source": [
    "df[\"Start Year\"] = df[\"Start Date\"].apply(lambda d: d.year)"
   ]
  },
  {
   "cell_type": "code",
   "execution_count": null,
   "metadata": {
    "collapsed": false
   },
   "outputs": [],
   "source": [
    "df.plot(x='Start Year', y='Approved Amount', style='.')"
   ]
  },
  {
   "cell_type": "code",
   "execution_count": null,
   "metadata": {
    "collapsed": false
   },
   "outputs": [],
   "source": [
    "# Print the median amount for each year\n",
    "df.groupby(\"Start Year\").median().plot()"
   ]
  },
  {
   "cell_type": "code",
   "execution_count": null,
   "metadata": {
    "collapsed": false
   },
   "outputs": [],
   "source": [
    "# Print the total of the amounts for each year\n",
    "df.groupby(\"Start Year\").sum().plot()"
   ]
  },
  {
   "cell_type": "markdown",
   "metadata": {},
   "source": [
    "** We see that the yearly budget generally increases over time**"
   ]
  },
  {
   "cell_type": "markdown",
   "metadata": {},
   "source": [
    "## API calls"
   ]
  },
  {
   "cell_type": "markdown",
   "metadata": {},
   "source": [
    "**We want to see how much funding went to each Swiss canton. We try to find the canton for each university using the Geonames API.**"
   ]
  },
  {
   "cell_type": "code",
   "execution_count": null,
   "metadata": {
    "collapsed": true
   },
   "outputs": [],
   "source": [
    "username = \"coolestteamada\"\n",
    "GEO_URL = \"http://api.geonames.org/searchJSON\""
   ]
  },
  {
   "cell_type": "code",
   "execution_count": null,
   "metadata": {
    "collapsed": false
   },
   "outputs": [],
   "source": [
    "epfl_geo = requests.get(GEO_URL, params={\"username\": username, \"q\": \"EPFL\"})\n",
    "epfl_geo.status_code"
   ]
  },
  {
   "cell_type": "code",
   "execution_count": null,
   "metadata": {
    "collapsed": false
   },
   "outputs": [],
   "source": [
    "epfl_geo = epfl_geo.json()['geonames'][0]\n",
    "epfl_geo"
   ]
  },
  {
   "cell_type": "markdown",
   "metadata": {},
   "source": [
    "**We see that the canton is returned in the 'adminCode1' field of the JSON.**"
   ]
  },
  {
   "cell_type": "code",
   "execution_count": null,
   "metadata": {
    "collapsed": false
   },
   "outputs": [],
   "source": [
    "# seems like we can get the canton easily\n",
    "epfl_geo['adminCode1']"
   ]
  },
  {
   "cell_type": "code",
   "execution_count": null,
   "metadata": {
    "collapsed": false
   },
   "outputs": [],
   "source": [
    "def parse_canton(json):\n",
    "    \"\"\"Parse the canton code from the geonames json\"\"\"\n",
    "    try:\n",
    "        return json['geonames'][0]['adminCode1']\n",
    "    except:\n",
    "        return None"
   ]
  },
  {
   "cell_type": "code",
   "execution_count": null,
   "metadata": {
    "collapsed": false
   },
   "outputs": [],
   "source": [
    "def get_uni_canton(uni):\n",
    "    \"\"\"Gets the canton code given a University name, using geonames api\"\"\"\n",
    "    r = requests.get(GEO_URL, params={\"username\": username, \"q\": uni})\n",
    "    return parse_canton(r.json())"
   ]
  },
  {
   "cell_type": "code",
   "execution_count": null,
   "metadata": {
    "collapsed": false
   },
   "outputs": [],
   "source": [
    "# List of all the universities\n",
    "unis = list(df.groupby(\"University\").groups.keys())\n",
    "unis[0:5]"
   ]
  },
  {
   "cell_type": "code",
   "execution_count": null,
   "metadata": {
    "collapsed": false
   },
   "outputs": [],
   "source": [
    "# Number of different universities\n",
    "len(unis)"
   ]
  },
  {
   "cell_type": "markdown",
   "metadata": {},
   "source": [
    "**This looks like a reasonable number of calls to the geonames API. We also want to make sure we are not omitting a large amount of projects that might be taking place outside of a university (or with a missing university field).**"
   ]
  },
  {
   "cell_type": "code",
   "execution_count": null,
   "metadata": {
    "collapsed": false
   },
   "outputs": [],
   "source": [
    "# Percentage of projects with null university field\n",
    "\"{0:.2f}%\".format(100 * df[\"University\"].isnull().sum() / len(df))"
   ]
  },
  {
   "cell_type": "code",
   "execution_count": null,
   "metadata": {
    "collapsed": false
   },
   "outputs": [],
   "source": [
    "# Percentage of funding with null university field\n",
    "\"{0:.2f}%\".format(100 * df[df[\"University\"].isnull()][\"Approved Amount\"].sum() / df[\"Approved Amount\"].sum())"
   ]
  },
  {
   "cell_type": "markdown",
   "metadata": {},
   "source": [
    "**It is only about 4% of the projects, and 0.4% of the total fundings. So we can omit those projects without a huge loss of information**"
   ]
  },
  {
   "cell_type": "code",
   "execution_count": null,
   "metadata": {
    "collapsed": false
   },
   "outputs": [],
   "source": [
    "# Try to get cantons for each uni\n",
    "canton_dict = {}\n",
    "for uni in unis:\n",
    "    canton_dict[uni] = get_uni_canton(uni)"
   ]
  },
  {
   "cell_type": "code",
   "execution_count": null,
   "metadata": {
    "collapsed": false,
    "scrolled": true
   },
   "outputs": [],
   "source": [
    "canton_dict.values()"
   ]
  },
  {
   "cell_type": "markdown",
   "metadata": {},
   "source": [
    "**Uh oh - the geonames API does not work for most of the universities. We will try filling the gaps manually. For some we cannot decide a canton, so we enter None. For multi-canton institutes or universities we assign the canton of their headquarters, if the HQ was given by the organization's website. Otherwise we also assign None.**"
   ]
  },
  {
   "cell_type": "code",
   "execution_count": null,
   "metadata": {
    "collapsed": false
   },
   "outputs": [],
   "source": [
    "manual_canton_dict = {\n",
    "    'AO Research Institute - AORI': 'GR',\n",
    "    'Allergie- und Asthmaforschung - SIAF': 'GR',\n",
    "    'Berner Fachhochschule - BFH': 'BE',\n",
    "    'Biotechnologie Institut Thurgau - BITG': 'TG',\n",
    "    \"Centre de rech. sur l'environnement alpin - CREALP\": 'VS',\n",
    "    'EPF Lausanne - EPFL': 'VD',\n",
    "    'ETH Zürich - ETHZ': 'ZH',\n",
    "    'Eidg. Anstalt für Wasserversorgung - EAWAG': 'ZH',\n",
    "    'Eidg. Forschungsanstalt für Wald,Schnee,Land - WSL': 'ZH',\n",
    "    'Eidg. Hochschulinstitut für Berufsbildung - EHB': 'BE',\n",
    "    'Eidg. Material und Prüfungsanstalt - EMPA': 'ZH',\n",
    "    'Ente Ospedaliero Cantonale - EOC': 'TI',\n",
    "    'Fachhochschule Kalaidos - FHKD': 'ZH',\n",
    "    'Fachhochschule Nordwestschweiz (ohne PH) - FHNW': 'SO',\n",
    "    'Fachhochschule Ostschweiz - FHO': 'SG',\n",
    "    'Facoltà di Teologia di Lugano - FTL': 'TI',\n",
    "    'Fernfachhochschule Schweiz (Mitglied SUPSI) - FFHS': 'VS',\n",
    "    'Firmen/Privatwirtschaft - FP': None,\n",
    "    'Forschungsanstalten Agroscope - AGS': None, # NOTE spread across many cantons\n",
    "    'Forschungsinstitut für Opthalmologie - IRO': 'VS',\n",
    "    'Forschungsinstitut für biologischen Landbau - FIBL': 'AG',\n",
    "    'Forschungskommission SAGW': 'BE',\n",
    "    'Franklin University Switzerland - FUS': 'TI',\n",
    "    'Friedrich Miescher Institute - FMI': 'BS',\n",
    "    'HES de Suisse occidentale - HES-SO': None, # NOTE in Delemont but spread among 7 cantons\n",
    "    'Haute école pédagogique BE, JU, NE - HEPBEJUNE': None, # NOTE no assignment; there are 3 campuses, one on each canton.\n",
    "    'Haute école pédagogique du canton de Vaud - HEPL': 'VD',\n",
    "    'Haute école pédagogique fribourgeoise - HEPFR': 'FR',\n",
    "    'Hochschule Luzern - HSLU': 'LU',\n",
    "    'Idiap Research Institute - IDIAP': 'VS',\n",
    "    'Inst. Suisse de Spéléologie et Karstologie - ISSKA': 'NE',\n",
    "    'Inst. de Hautes Etudes Internat. et du Dév - IHEID': 'GE',\n",
    "    'Inst. universit. romand de Santé au Travail - IST': 'VD',\n",
    "    'Institut Universitaire Kurt Bösch - IUKB': 'VS',\n",
    "    'Institut für Kulturforschung Graubünden - IKG': 'GR',\n",
    "    'Instituto Ricerche Solari Locarno - IRSOL': 'TI',\n",
    "    'Interkant. Hochschule für Heilpädagogik ZH - HfH': 'ZH',\n",
    "    'Istituto Svizzero di Roma - ISR': None, # NOTE in Rome, Italy!\n",
    "    'Kantonsspital St. Gallen - KSPSG': 'SG',\n",
    "    'NPO (Biblioth., Museen, Verwalt.) - NPO': None,\n",
    "    'Nicht zuteilbar - NA': None,\n",
    "    'Paul Scherrer Institut - PSI': 'AG',\n",
    "    'Physikal.-Meteorolog. Observatorium Davos - PMOD': 'GR',\n",
    "    'Pädag. Hochschule Tessin (Teilschule SUPSI) - ASP': 'TI',\n",
    "    'Pädagogische Hochschule Bern - PHBern': 'BE',\n",
    "    'Pädagogische Hochschule Graubünden - PHGR': 'GR',\n",
    "    'Pädagogische Hochschule Luzern - PHLU': 'LU',\n",
    "    'Pädagogische Hochschule Nordwestschweiz - PHFHNW': 'AG',\n",
    "    'Pädagogische Hochschule Schaffhausen - PHSH': 'SH',\n",
    "    'Pädagogische Hochschule Schwyz - PHSZ': 'SZ',\n",
    "    'Pädagogische Hochschule St. Gallen - PHSG': 'SG',\n",
    "    'Pädagogische Hochschule Thurgau - PHTG': 'TG',\n",
    "    'Pädagogische Hochschule Wallis - PHVS': 'VS',\n",
    "    'Pädagogische Hochschule Zug - PHZG': 'ZG',\n",
    "    'Pädagogische Hochschule Zürich - PHZFH': 'ZH',\n",
    "    'Robert Walser-Stiftung Bern - RWS': 'BE',\n",
    "    'SUP della Svizzera italiana - SUPSI': 'TI',\n",
    "    'Schweiz. Hochschule für Logopädie Rorschach - SHLR': 'SG',\n",
    "    'Schweiz. Institut für Kunstwissenschaft - SIK-ISEA': 'ZH',\n",
    "    'Schweizer Kompetenzzentrum Sozialwissensch. - FORS': 'VD',\n",
    "    'Schweizer Paraplegiker Forschung - SPF': 'LU',\n",
    "    'Staatsunabh. Theologische Hochschule Basel - STHB': 'BS',\n",
    "    'Swiss Center for Electronics and Microtech. - CSEM': 'NE',\n",
    "    'Swiss Institute of Bioinformatics - SIB': 'VD',\n",
    "    'Università della Svizzera italiana - USI': 'TI',\n",
    "    'Universität Basel - BS': 'BS', #api\n",
    "    'Universität Bern - BE': 'BE', #api\n",
    "    'Universität Luzern - LU': 'LU',\n",
    "    'Universität St. Gallen - SG': 'SG',\n",
    "    'Universität Zürich - ZH': 'ZH', #api\n",
    "    'Université de Fribourg - FR': 'FR', #api\n",
    "    'Université de Genève - GE': 'GE',\n",
    "    'Université de Lausanne - LA': 'VD',\n",
    "    'Université de Neuchâtel - NE': 'NE', #api\n",
    "    'Weitere Institute - FINST': None,\n",
    "    'Weitere Spitäler - ASPIT': None,\n",
    "    'Zürcher Fachhochschule (ohne PH) - ZFH': 'ZH'\n",
    "}"
   ]
  },
  {
   "cell_type": "code",
   "execution_count": null,
   "metadata": {
    "collapsed": false
   },
   "outputs": [],
   "source": [
    "# We create a DataFrame from the dict\n",
    "canton_df = pd.DataFrame.from_dict(manual_canton_dict, orient='index')\n",
    "canton_df.columns = ['Canton']\n",
    "canton_df.sample(5)"
   ]
  },
  {
   "cell_type": "code",
   "execution_count": null,
   "metadata": {
    "collapsed": false
   },
   "outputs": [],
   "source": [
    "# And now we merge the two DataFrame to add the canton code for each project\n",
    "df_with_canton = pd.merge(left=df, right=canton_df, left_on='University', right_index=True)\n",
    "df_with_canton.sample(5)\n"
   ]
  },
  {
   "cell_type": "code",
   "execution_count": null,
   "metadata": {
    "collapsed": false
   },
   "outputs": [],
   "source": [
    "# Total amount with no canton assigned\n",
    "total_amt_no_canton = df_with_canton[df_with_canton['Canton'].isnull()]['Approved Amount'].sum()\n",
    "\n",
    "# Total amount\n",
    "total_amt = df_with_canton['Approved Amount'].sum()\n",
    "print(\"{0:.2f}% of funds without a canton\".format(100.0* total_amt_no_canton/total_amt))"
   ]
  },
  {
   "cell_type": "markdown",
   "metadata": {},
   "source": [
    "**We see that only 5% of the funding in our table went to universities with no canton assigned. So we now drop all projects without a canton**"
   ]
  },
  {
   "cell_type": "code",
   "execution_count": null,
   "metadata": {
    "collapsed": false
   },
   "outputs": [],
   "source": [
    "print(\"Len before drop: %d\" % len(df_with_canton))\n",
    "df_projects_with_canton = df_with_canton.dropna(subset=['Canton'])\n",
    "print(\"Len after drop: %d\" % len(df_projects_with_canton))"
   ]
  },
  {
   "cell_type": "markdown",
   "metadata": {},
   "source": [
    "**We dropped roughly 5000 projects that did not have a canton. Time to make our funding map!**"
   ]
  },
  {
   "cell_type": "code",
   "execution_count": null,
   "metadata": {
    "collapsed": false
   },
   "outputs": [],
   "source": [
    "# Now we sum the total amount assigned to each canton\n",
    "funding_by_canton = df_projects_with_canton.groupby('Canton').sum()\n",
    "funding_by_canton = funding_by_canton[['Approved Amount']]\n",
    "funding_by_canton"
   ]
  },
  {
   "cell_type": "code",
   "execution_count": null,
   "metadata": {
    "collapsed": false,
    "scrolled": false
   },
   "outputs": [],
   "source": [
    "funding_by_canton.describe()"
   ]
  },
  {
   "cell_type": "markdown",
   "metadata": {},
   "source": [
    "**We see however that we have 18 cantons instead of 26. Let's fill the missing cantons and give them zero approved amounts**"
   ]
  },
  {
   "cell_type": "code",
   "execution_count": null,
   "metadata": {
    "collapsed": false
   },
   "outputs": [],
   "source": [
    "swiss_cantons_list = [\"AG\", \"AI\", \"AR\", \"BE\", \"BL\", \"BS\", \"FR\", \"GE\", \"GL\", \"GR\", \"JU\", \"LU\", \"NE\", \"NW\", \"OW\", \"SG\", \"SH\", \"SO\", \"SZ\", \"TG\", \"TI\", \"UR\", \"VD\", \"VS\", \"ZG\", \"ZH\"]\n",
    "df_all_canton = pd.DataFrame(swiss_cantons_list, columns=[\"Canton\"])\n",
    "df_all_canton['Approved Amount'] = 0\n",
    "df_all_canton = df_all_canton.set_index('Canton')\n",
    "df_all_canton.head()"
   ]
  },
  {
   "cell_type": "markdown",
   "metadata": {},
   "source": [
    "**The dataframe below contains the funding total for every canton.**"
   ]
  },
  {
   "cell_type": "code",
   "execution_count": null,
   "metadata": {
    "collapsed": false
   },
   "outputs": [],
   "source": [
    "# Add missing cantons\n",
    "df_to_map = funding_by_canton.add(df_all_canton, fill_value=0)\n",
    "# Also reset the index in order for folium to work (it needs a proper column)\n",
    "df_to_map = df_to_map.reset_index()"
   ]
  },
  {
   "cell_type": "code",
   "execution_count": null,
   "metadata": {
    "collapsed": false
   },
   "outputs": [],
   "source": [
    "df_to_map.head()"
   ]
  },
  {
   "cell_type": "markdown",
   "metadata": {},
   "source": [
    "** Let's test folium's choropleth with the funding total for each canton**"
   ]
  },
  {
   "cell_type": "code",
   "execution_count": null,
   "metadata": {
    "collapsed": true
   },
   "outputs": [],
   "source": [
    "# We remove the warnings because choropleth always yields an unuseful FutureWarning\n",
    "import warnings\n",
    "warnings.simplefilter(action = \"ignore\", category = FutureWarning)"
   ]
  },
  {
   "cell_type": "code",
   "execution_count": null,
   "metadata": {
    "collapsed": false
   },
   "outputs": [],
   "source": [
    "geo_path = 'ch-cantons.topojson.json'\n",
    "    \n",
    "\n",
    "switzerland = folium.Map(location=[46.57, 8], zoom_start=8)\n",
    "switzerland.choropleth(geo_path=geo_path, \n",
    "                     data=df_to_map,\n",
    "                     columns=['Canton', 'Approved Amount'],\n",
    "                     key_on='feature.id',\n",
    "                     topojson='objects.cantons',\n",
    "                     fill_color='YlGn'\n",
    "                    )\n",
    "switzerland"
   ]
  },
  {
   "cell_type": "markdown",
   "metadata": {},
   "source": [
    "** A few cantons (Zürich, Vaud, Geneva, and Bern) dominate the funding landscape and the rest barely show up on the Choropleth. \n",
    "We plot using a log scale for another perspective on the funding differences**"
   ]
  },
  {
   "cell_type": "code",
   "execution_count": null,
   "metadata": {
    "collapsed": false
   },
   "outputs": [],
   "source": [
    "# Apply a log to the amounts. We add 1 to avoid negative values from the log\n",
    "df_to_map['Log Approved Amount'] = np.log(df_to_map['Approved Amount'] + 1)\n",
    "df_to_map.head()"
   ]
  },
  {
   "cell_type": "code",
   "execution_count": null,
   "metadata": {
    "collapsed": false,
    "scrolled": true
   },
   "outputs": [],
   "source": [
    "switzerland_log = folium.Map(location=[46.57, 8], zoom_start=8)\n",
    "switzerland_log.choropleth(geo_path=geo_path, \n",
    "                     data=df_to_map,\n",
    "                     columns=['Canton', 'Log Approved Amount'],\n",
    "                     key_on='feature.id',\n",
    "                     topojson='objects.cantons',\n",
    "                     fill_color='YlGn'\n",
    "                    )\n",
    "switzerland_log"
   ]
  },
  {
   "cell_type": "markdown",
   "metadata": {},
   "source": [
    "**Save these maps as HTML (for our reviewers)**"
   ]
  },
  {
   "cell_type": "code",
   "execution_count": null,
   "metadata": {
    "collapsed": true
   },
   "outputs": [],
   "source": [
    "switzerland.save(\"funding_map_switzerland.html\")\n",
    "switzerland_log.save(\"funding_map_switzerland_logscale.html\")"
   ]
  },
  {
   "cell_type": "code",
   "execution_count": null,
   "metadata": {
    "collapsed": true
   },
   "outputs": [],
   "source": []
  }
 ],
 "metadata": {
  "anaconda-cloud": {},
  "kernelspec": {
   "display_name": "Python [Root]",
   "language": "python",
   "name": "Python [Root]"
  },
  "language_info": {
   "codemirror_mode": {
    "name": "ipython",
    "version": 3
   },
   "file_extension": ".py",
   "mimetype": "text/x-python",
   "name": "python",
   "nbconvert_exporter": "python",
   "pygments_lexer": "ipython3",
   "version": "3.5.2"
  }
 },
 "nbformat": 4,
 "nbformat_minor": 1
}
