{
 "cells": [
  {
   "cell_type": "code",
   "execution_count": null,
   "metadata": {
    "collapsed": false
   },
   "outputs": [],
   "source": [
    "import folium\n",
    "import pandas as pd\n",
    "import numpy as np\n",
    "import requests\n",
    "%matplotlib inline"
   ]
  },
  {
   "cell_type": "code",
   "execution_count": null,
   "metadata": {
    "collapsed": false
   },
   "outputs": [],
   "source": [
    "df = pd.read_csv(\"P3_GrantExport.csv\", sep=\";\", index_col=0)"
   ]
  },
  {
   "cell_type": "code",
   "execution_count": null,
   "metadata": {
    "collapsed": false,
    "scrolled": true
   },
   "outputs": [],
   "source": [
    "df.sample(5)"
   ]
  },
  {
   "cell_type": "code",
   "execution_count": null,
   "metadata": {
    "collapsed": false
   },
   "outputs": [],
   "source": [
    "wanted_columns = [\"Project Title\", \"Funding Instrument\", \"Institution\", \"University\", \"Start Date\", \"End Date\", \"Approved Amount\"]\n",
    "df = df[wanted_columns]\n",
    "df.sample(3)"
   ]
  },
  {
   "cell_type": "markdown",
   "metadata": {},
   "source": [
    "**We can see there are a lot of missing values in the Approved Amount column. They are denoted with a \"data not included in P3\" string**"
   ]
  },
  {
   "cell_type": "code",
   "execution_count": null,
   "metadata": {
    "collapsed": false
   },
   "outputs": [],
   "source": [
    "df.loc[53829][\"Approved Amount\"]"
   ]
  },
  {
   "cell_type": "markdown",
   "metadata": {},
   "source": [
    "**There's about 1/6th of the data with missing approved amounts. We have no other option than dropping them**"
   ]
  },
  {
   "cell_type": "code",
   "execution_count": null,
   "metadata": {
    "collapsed": false
   },
   "outputs": [],
   "source": [
    "pd.to_numeric(df[\"Approved Amount\"], errors=\"coerce\").isnull().sum()"
   ]
  },
  {
   "cell_type": "markdown",
   "metadata": {},
   "source": [
    "** After inspecting the rows with missing data, it looks like most of the Institutions are not located in Switzerland. It is also indicated on the documentation page that all mobility fellowship are missing.**"
   ]
  },
  {
   "cell_type": "code",
   "execution_count": null,
   "metadata": {
    "collapsed": false
   },
   "outputs": [],
   "source": [
    "missing_amounts = pd.to_numeric(df[\"Approved Amount\"], errors=\"coerce\").isnull()\n",
    "df[missing_amounts].groupby(\"Institution\").count().sample(5)"
   ]
  },
  {
   "cell_type": "markdown",
   "metadata": {},
   "source": [
    "**The documentation says that this field is missing for mobility, but we notice that there are other Funding Instruments like \"Fellowships for prospective researchers\" which lack many Amount values.** "
   ]
  },
  {
   "cell_type": "code",
   "execution_count": null,
   "metadata": {
    "collapsed": false
   },
   "outputs": [],
   "source": [
    "df[missing_amounts].groupby(\"Funding Instrument\").count()"
   ]
  },
  {
   "cell_type": "code",
   "execution_count": null,
   "metadata": {
    "collapsed": false
   },
   "outputs": [],
   "source": [
    "# Dropping project with missing Amounts\n",
    "print(\"Length before drop: \", len(df))\n",
    "df = df[~missing_amounts]\n",
    "print(\"Length after drop: \", len(df))"
   ]
  },
  {
   "cell_type": "code",
   "execution_count": null,
   "metadata": {
    "collapsed": false
   },
   "outputs": [],
   "source": [
    "df[\"Approved Amount\"] = pd.to_numeric(df[\"Approved Amount\"])\n",
    "df[\"Approved Amount\"].describe()"
   ]
  },
  {
   "cell_type": "code",
   "execution_count": null,
   "metadata": {
    "collapsed": false
   },
   "outputs": [],
   "source": [
    "# Biggest project\n",
    "df[df[\"Approved Amount\"] == df[\"Approved Amount\"].max()]"
   ]
  },
  {
   "cell_type": "code",
   "execution_count": null,
   "metadata": {
    "collapsed": false
   },
   "outputs": [],
   "source": [
    "zero_amount_pj = df[df[\"Approved Amount\"] == 0]\n",
    "zero_amount_pj.sample(5)"
   ]
  },
  {
   "cell_type": "code",
   "execution_count": null,
   "metadata": {
    "collapsed": false
   },
   "outputs": [],
   "source": [
    "len(zero_amount_pj)"
   ]
  },
  {
   "cell_type": "markdown",
   "metadata": {},
   "source": [
    "**There is a gap in the project numbering, let's see if there is also a gap in the dates (missing period)**"
   ]
  },
  {
   "cell_type": "code",
   "execution_count": null,
   "metadata": {
    "collapsed": false
   },
   "outputs": [],
   "source": [
    "df[\"Approved Amount\"].plot()"
   ]
  },
  {
   "cell_type": "code",
   "execution_count": null,
   "metadata": {
    "collapsed": false
   },
   "outputs": [],
   "source": [
    "df[\"Start Date\"] = pd.to_datetime(df[\"Start Date\"])\n",
    "df[\"End Date\"] = pd.to_datetime(df[\"End Date\"])"
   ]
  },
  {
   "cell_type": "code",
   "execution_count": null,
   "metadata": {
    "collapsed": false
   },
   "outputs": [],
   "source": [
    "# Plotting the years\n",
    "df[\"Start Date\"].apply(lambda d: d.year).plot()"
   ]
  },
  {
   "cell_type": "markdown",
   "metadata": {},
   "source": [
    "**From our crude analysis, we can see that the data looks inconsistent before 1990, and that the project numbering changed around 2004 but the data looks complete from 1990 to today**"
   ]
  },
  {
   "cell_type": "code",
   "execution_count": null,
   "metadata": {
    "collapsed": false,
    "scrolled": true
   },
   "outputs": [],
   "source": [
    "df[\"End Date\"].apply(lambda d: d.year).plot()"
   ]
  },
  {
   "cell_type": "code",
   "execution_count": null,
   "metadata": {
    "collapsed": true
   },
   "outputs": [],
   "source": [
    "df[\"Start Year\"] = df[\"Start Date\"].apply(lambda d: d.year)"
   ]
  },
  {
   "cell_type": "code",
   "execution_count": null,
   "metadata": {
    "collapsed": false
   },
   "outputs": [],
   "source": [
    "df.plot(x='Start Year', y='Approved Amount', style='.')"
   ]
  },
  {
   "cell_type": "code",
   "execution_count": null,
   "metadata": {
    "collapsed": false
   },
   "outputs": [],
   "source": [
    "# Print the median amount for each year\n",
    "df.groupby(\"Start Year\").median().plot()"
   ]
  },
  {
   "cell_type": "code",
   "execution_count": null,
   "metadata": {
    "collapsed": false
   },
   "outputs": [],
   "source": [
    "# Print the total of the amounts for each year\n",
    "df.groupby(\"Start Year\").sum().plot()"
   ]
  },
  {
   "cell_type": "markdown",
   "metadata": {},
   "source": [
    "** We see that the yearly budget generally increases with the time**"
   ]
  },
  {
   "cell_type": "code",
   "execution_count": null,
   "metadata": {
    "collapsed": true
   },
   "outputs": [],
   "source": [
    "username = \"coolestteamada\"\n",
    "GEO_URL = \"http://api.geonames.org/searchJSON\""
   ]
  },
  {
   "cell_type": "code",
   "execution_count": null,
   "metadata": {
    "collapsed": false
   },
   "outputs": [],
   "source": [
    "epfl_geo = requests.get(GEO_URL, params={\"username\": username, \"q\": \"EPFL\"})\n",
    "epfl_geo.status_code"
   ]
  },
  {
   "cell_type": "code",
   "execution_count": null,
   "metadata": {
    "collapsed": false
   },
   "outputs": [],
   "source": [
    "epfl_geo = epfl_geo.json()['geonames'][0]\n",
    "epfl_geo"
   ]
  },
  {
   "cell_type": "code",
   "execution_count": null,
   "metadata": {
    "collapsed": false
   },
   "outputs": [],
   "source": [
    "# seems like we can get the canton easily\n",
    "epfl_geo['adminCode1']"
   ]
  },
  {
   "cell_type": "code",
   "execution_count": null,
   "metadata": {
    "collapsed": false
   },
   "outputs": [],
   "source": [
    "def parse_canton(json):\n",
    "    try:\n",
    "        return json['geonames'][0]['adminCode1']\n",
    "    except:\n",
    "        return None"
   ]
  },
  {
   "cell_type": "code",
   "execution_count": null,
   "metadata": {
    "collapsed": false
   },
   "outputs": [],
   "source": [
    "def get_uni_canton(uni):\n",
    "    r = requests.get(GEO_URL, params={\"username\": username, \"q\": uni})\n",
    "    return parse_canton(r.json())"
   ]
  },
  {
   "cell_type": "code",
   "execution_count": null,
   "metadata": {
    "collapsed": false
   },
   "outputs": [],
   "source": [
    "unis = list(df.groupby(\"University\").groups.keys())\n",
    "unis[0:5]"
   ]
  },
  {
   "cell_type": "code",
   "execution_count": null,
   "metadata": {
    "collapsed": false
   },
   "outputs": [],
   "source": [
    "# Number of different universities\n",
    "len(unis)"
   ]
  },
  {
   "cell_type": "markdown",
   "metadata": {},
   "source": [
    "**This looks like a reasonable number of calls to our API**"
   ]
  },
  {
   "cell_type": "code",
   "execution_count": null,
   "metadata": {
    "collapsed": false
   },
   "outputs": [],
   "source": [
    "# Percentage of project without universities\n",
    "\"{0:.2f}%\".format(100 * df[\"University\"].isnull().sum() / len(df))"
   ]
  },
  {
   "cell_type": "code",
   "execution_count": null,
   "metadata": {
    "collapsed": false
   },
   "outputs": [],
   "source": [
    "# Percentage of funding without universities\n",
    "\"{0:.2f}%\".format(100 * df[df[\"University\"].isnull()][\"Approved Amount\"].sum() / df[\"Approved Amount\"].sum())"
   ]
  },
  {
   "cell_type": "markdown",
   "metadata": {},
   "source": [
    "**It is only about 4% of the projects, and 0.4% of the total fundings. So we can omit those without a huge loss of information**"
   ]
  },
  {
   "cell_type": "code",
   "execution_count": null,
   "metadata": {
    "collapsed": false
   },
   "outputs": [],
   "source": [
    "# Try to get cantons for each uni\n",
    "canton_dict = {}\n",
    "for uni in unis:\n",
    "    canton_dict[uni] = get_uni_canton(uni)"
   ]
  },
  {
   "cell_type": "code",
   "execution_count": null,
   "metadata": {
    "collapsed": false,
    "scrolled": true
   },
   "outputs": [],
   "source": [
    "canton_dict.values()"
   ]
  },
  {
   "cell_type": "markdown",
   "metadata": {},
   "source": [
    "**It does not work for most of the universities**"
   ]
  },
  {
   "cell_type": "code",
   "execution_count": null,
   "metadata": {
    "collapsed": true
   },
   "outputs": [],
   "source": [
    "swiss_cantons_list = [\"AG\", \"AI\", \"AR\", \"BE\", \"BL\", \"BS\", \"FR\", \"GE\", \"GL\", \"GR\", \"JU\", \"LU\", \"NE\", \"NW\", \"OW\", \"SG\", \"SH\", \"SO\", \"SZ\", \"TG\", \"TI\", \"UR\", \"VD\", \"VS\", \"ZG\", \"ZH\"]"
   ]
  },
  {
   "cell_type": "code",
   "execution_count": null,
   "metadata": {
    "collapsed": false
   },
   "outputs": [],
   "source": [
    "canton_dict"
   ]
  },
  {
   "cell_type": "code",
   "execution_count": null,
   "metadata": {
    "collapsed": true
   },
   "outputs": [],
   "source": []
  },
  {
   "cell_type": "markdown",
   "metadata": {},
   "source": [
    "** Let's test folium's choropleth with random values for each canton**"
   ]
  },
  {
   "cell_type": "code",
   "execution_count": null,
   "metadata": {
    "collapsed": false
   },
   "outputs": [],
   "source": [
    "from random import random\n",
    "\n",
    "random_values = [random() for _ in swiss_cantons_list]\n",
    "    \n",
    "random_cantons = pd.DataFrame(list(zip(swiss_cantons_list, random_values)), columns=[\"Canton\", \"Value\"])\n",
    "random_cantons.head()\n"
   ]
  },
  {
   "cell_type": "code",
   "execution_count": null,
   "metadata": {
    "collapsed": false
   },
   "outputs": [],
   "source": [
    "geo_path = 'ch-cantons.topojson.json'\n",
    "    \n",
    "\n",
    "switzerland = folium.Map(location=[46.57, 8], zoom_start=8)\n",
    "switzerland.choropleth(geo_path=geo_path, \n",
    "                     data=random_cantons,\n",
    "                     columns=['Canton', 'Value'],\n",
    "                     key_on='feature.id',\n",
    "                     topojson='objects.cantons',\n",
    "                     fill_color='YlOrRd'\n",
    "                    )\n",
    "switzerland"
   ]
  },
  {
   "cell_type": "code",
   "execution_count": null,
   "metadata": {
    "collapsed": true
   },
   "outputs": [],
   "source": []
  }
 ],
 "metadata": {
  "anaconda-cloud": {},
  "kernelspec": {
   "display_name": "Python [conda root]",
   "language": "python",
   "name": "conda-root-py"
  },
  "language_info": {
   "codemirror_mode": {
    "name": "ipython",
    "version": 3
   },
   "file_extension": ".py",
   "mimetype": "text/x-python",
   "name": "python",
   "nbconvert_exporter": "python",
   "pygments_lexer": "ipython3",
   "version": "3.5.2"
  }
 },
 "nbformat": 4,
 "nbformat_minor": 1
}
