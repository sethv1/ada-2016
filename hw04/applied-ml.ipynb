{
 "cells": [
  {
   "cell_type": "code",
   "execution_count": 1,
   "metadata": {
    "collapsed": true
   },
   "outputs": [],
   "source": [
    "import pandas as pd\n",
    "import numpy as np\n",
    "import seaborn as sns \n",
    "\n",
    "%matplotlib inline"
   ]
  },
  {
   "cell_type": "markdown",
   "metadata": {},
   "source": [
    "## Loading the data"
   ]
  },
  {
   "cell_type": "code",
   "execution_count": 2,
   "metadata": {
    "collapsed": false
   },
   "outputs": [],
   "source": [
    "data_path = \"CrowdstormingDataJuly1st.csv\"\n",
    "df = pd.read_csv(data_path)"
   ]
  },
  {
   "cell_type": "code",
   "execution_count": 3,
   "metadata": {
    "collapsed": false
   },
   "outputs": [
    {
     "data": {
      "text/html": [
       "<div>\n",
       "<table border=\"1\" class=\"dataframe\">\n",
       "  <thead>\n",
       "    <tr style=\"text-align: right;\">\n",
       "      <th></th>\n",
       "      <th>playerShort</th>\n",
       "      <th>player</th>\n",
       "      <th>club</th>\n",
       "      <th>leagueCountry</th>\n",
       "      <th>birthday</th>\n",
       "      <th>height</th>\n",
       "      <th>weight</th>\n",
       "      <th>position</th>\n",
       "      <th>games</th>\n",
       "      <th>victories</th>\n",
       "      <th>...</th>\n",
       "      <th>rater2</th>\n",
       "      <th>refNum</th>\n",
       "      <th>refCountry</th>\n",
       "      <th>Alpha_3</th>\n",
       "      <th>meanIAT</th>\n",
       "      <th>nIAT</th>\n",
       "      <th>seIAT</th>\n",
       "      <th>meanExp</th>\n",
       "      <th>nExp</th>\n",
       "      <th>seExp</th>\n",
       "    </tr>\n",
       "  </thead>\n",
       "  <tbody>\n",
       "    <tr>\n",
       "      <th>103739</th>\n",
       "      <td>laurent-bonnart</td>\n",
       "      <td>Laurent Bonnart</td>\n",
       "      <td>Lille OSC</td>\n",
       "      <td>France</td>\n",
       "      <td>25.12.1979</td>\n",
       "      <td>170.0</td>\n",
       "      <td>62.0</td>\n",
       "      <td>Left Fullback</td>\n",
       "      <td>1</td>\n",
       "      <td>0</td>\n",
       "      <td>...</td>\n",
       "      <td>0.25</td>\n",
       "      <td>2230</td>\n",
       "      <td>72</td>\n",
       "      <td>PRT</td>\n",
       "      <td>0.396803</td>\n",
       "      <td>1079.0</td>\n",
       "      <td>0.000392</td>\n",
       "      <td>0.790366</td>\n",
       "      <td>1121.0</td>\n",
       "      <td>0.001798</td>\n",
       "    </tr>\n",
       "    <tr>\n",
       "      <th>87664</th>\n",
       "      <td>louis-saha</td>\n",
       "      <td>Louis Saha</td>\n",
       "      <td>Sunderland AFC</td>\n",
       "      <td>England</td>\n",
       "      <td>08.08.1978</td>\n",
       "      <td>184.0</td>\n",
       "      <td>75.0</td>\n",
       "      <td>Center Forward</td>\n",
       "      <td>18</td>\n",
       "      <td>7</td>\n",
       "      <td>...</td>\n",
       "      <td>1.00</td>\n",
       "      <td>1909</td>\n",
       "      <td>44</td>\n",
       "      <td>ENGL</td>\n",
       "      <td>0.326690</td>\n",
       "      <td>44791.0</td>\n",
       "      <td>0.000010</td>\n",
       "      <td>0.356446</td>\n",
       "      <td>46916.0</td>\n",
       "      <td>0.000037</td>\n",
       "    </tr>\n",
       "    <tr>\n",
       "      <th>72247</th>\n",
       "      <td>ilir-azemi</td>\n",
       "      <td>Ilir Azemi</td>\n",
       "      <td>SpVgg Greuther Fürth</td>\n",
       "      <td>Germany</td>\n",
       "      <td>21.02.1992</td>\n",
       "      <td>191.0</td>\n",
       "      <td>91.0</td>\n",
       "      <td>Center Forward</td>\n",
       "      <td>1</td>\n",
       "      <td>0</td>\n",
       "      <td>...</td>\n",
       "      <td>0.00</td>\n",
       "      <td>1571</td>\n",
       "      <td>8</td>\n",
       "      <td>DEU</td>\n",
       "      <td>0.336628</td>\n",
       "      <td>7749.0</td>\n",
       "      <td>0.000055</td>\n",
       "      <td>0.335967</td>\n",
       "      <td>7974.0</td>\n",
       "      <td>0.000225</td>\n",
       "    </tr>\n",
       "    <tr>\n",
       "      <th>12913</th>\n",
       "      <td>natxo-insa</td>\n",
       "      <td>Natxo Insa</td>\n",
       "      <td>Celta Vigo</td>\n",
       "      <td>Spain</td>\n",
       "      <td>09.06.1986</td>\n",
       "      <td>177.0</td>\n",
       "      <td>70.0</td>\n",
       "      <td>Attacking Midfielder</td>\n",
       "      <td>5</td>\n",
       "      <td>1</td>\n",
       "      <td>...</td>\n",
       "      <td>0.50</td>\n",
       "      <td>278</td>\n",
       "      <td>3</td>\n",
       "      <td>ESP</td>\n",
       "      <td>0.369894</td>\n",
       "      <td>1785.0</td>\n",
       "      <td>0.000229</td>\n",
       "      <td>0.588297</td>\n",
       "      <td>1897.0</td>\n",
       "      <td>0.001002</td>\n",
       "    </tr>\n",
       "    <tr>\n",
       "      <th>54432</th>\n",
       "      <td>joe-bennett</td>\n",
       "      <td>Joe Bennett</td>\n",
       "      <td>Aston Villa</td>\n",
       "      <td>England</td>\n",
       "      <td>28.03.1990</td>\n",
       "      <td>177.0</td>\n",
       "      <td>74.0</td>\n",
       "      <td>NaN</td>\n",
       "      <td>1</td>\n",
       "      <td>0</td>\n",
       "      <td>...</td>\n",
       "      <td>NaN</td>\n",
       "      <td>1092</td>\n",
       "      <td>44</td>\n",
       "      <td>ENGL</td>\n",
       "      <td>0.326690</td>\n",
       "      <td>44791.0</td>\n",
       "      <td>0.000010</td>\n",
       "      <td>0.356446</td>\n",
       "      <td>46916.0</td>\n",
       "      <td>0.000037</td>\n",
       "    </tr>\n",
       "  </tbody>\n",
       "</table>\n",
       "<p>5 rows × 28 columns</p>\n",
       "</div>"
      ],
      "text/plain": [
       "            playerShort           player                  club leagueCountry  \\\n",
       "103739  laurent-bonnart  Laurent Bonnart             Lille OSC        France   \n",
       "87664        louis-saha       Louis Saha        Sunderland AFC       England   \n",
       "72247        ilir-azemi       Ilir Azemi  SpVgg Greuther Fürth       Germany   \n",
       "12913        natxo-insa       Natxo Insa            Celta Vigo         Spain   \n",
       "54432       joe-bennett      Joe Bennett           Aston Villa       England   \n",
       "\n",
       "          birthday  height  weight              position  games  victories  \\\n",
       "103739  25.12.1979   170.0    62.0         Left Fullback      1          0   \n",
       "87664   08.08.1978   184.0    75.0        Center Forward     18          7   \n",
       "72247   21.02.1992   191.0    91.0        Center Forward      1          0   \n",
       "12913   09.06.1986   177.0    70.0  Attacking Midfielder      5          1   \n",
       "54432   28.03.1990   177.0    74.0                   NaN      1          0   \n",
       "\n",
       "          ...     rater2  refNum  refCountry  Alpha_3   meanIAT     nIAT  \\\n",
       "103739    ...       0.25    2230          72      PRT  0.396803   1079.0   \n",
       "87664     ...       1.00    1909          44     ENGL  0.326690  44791.0   \n",
       "72247     ...       0.00    1571           8      DEU  0.336628   7749.0   \n",
       "12913     ...       0.50     278           3      ESP  0.369894   1785.0   \n",
       "54432     ...        NaN    1092          44     ENGL  0.326690  44791.0   \n",
       "\n",
       "           seIAT   meanExp     nExp     seExp  \n",
       "103739  0.000392  0.790366   1121.0  0.001798  \n",
       "87664   0.000010  0.356446  46916.0  0.000037  \n",
       "72247   0.000055  0.335967   7974.0  0.000225  \n",
       "12913   0.000229  0.588297   1897.0  0.001002  \n",
       "54432   0.000010  0.356446  46916.0  0.000037  \n",
       "\n",
       "[5 rows x 28 columns]"
      ]
     },
     "execution_count": 3,
     "metadata": {},
     "output_type": "execute_result"
    }
   ],
   "source": [
    "df.sample(5)"
   ]
  },
  {
   "cell_type": "code",
   "execution_count": 4,
   "metadata": {
    "collapsed": false
   },
   "outputs": [
    {
     "name": "stdout",
     "output_type": "stream",
     "text": [
      "Number of entries: 146028\n"
     ]
    }
   ],
   "source": [
    "print(\"Number of entries: %d\" % len(df))"
   ]
  },
  {
   "cell_type": "markdown",
   "metadata": {},
   "source": [
    "We can see that there are many players without skin color ratings. Those aren't going to be useful for us"
   ]
  },
  {
   "cell_type": "code",
   "execution_count": 5,
   "metadata": {
    "collapsed": false
   },
   "outputs": [
    {
     "data": {
      "text/plain": [
       "playerShort          0\n",
       "player               0\n",
       "club                 0\n",
       "leagueCountry        0\n",
       "birthday             0\n",
       "height             263\n",
       "weight            2243\n",
       "position         17726\n",
       "games                0\n",
       "victories            0\n",
       "ties                 0\n",
       "defeats              0\n",
       "goals                0\n",
       "yellowCards          0\n",
       "yellowReds           0\n",
       "redCards             0\n",
       "photoID          21407\n",
       "rater1           21407\n",
       "rater2           21407\n",
       "refNum               0\n",
       "refCountry           0\n",
       "Alpha_3              1\n",
       "meanIAT            163\n",
       "nIAT               163\n",
       "seIAT              163\n",
       "meanExp            163\n",
       "nExp               163\n",
       "seExp              163\n",
       "dtype: int64"
      ]
     },
     "execution_count": 5,
     "metadata": {},
     "output_type": "execute_result"
    }
   ],
   "source": [
    "df.isnull().sum()"
   ]
  },
  {
   "cell_type": "code",
   "execution_count": 6,
   "metadata": {
    "collapsed": false
   },
   "outputs": [
    {
     "name": "stdout",
     "output_type": "stream",
     "text": [
      "124621\n"
     ]
    }
   ],
   "source": [
    "df = df.dropna(subset=[\"rater1\", \"rater2\"])\n",
    "print(len(df))"
   ]
  },
  {
   "cell_type": "code",
   "execution_count": 7,
   "metadata": {
    "collapsed": false
   },
   "outputs": [
    {
     "data": {
      "text/html": [
       "<div>\n",
       "<table border=\"1\" class=\"dataframe\">\n",
       "  <thead>\n",
       "    <tr style=\"text-align: right;\">\n",
       "      <th></th>\n",
       "      <th>height</th>\n",
       "      <th>weight</th>\n",
       "      <th>games</th>\n",
       "      <th>victories</th>\n",
       "      <th>ties</th>\n",
       "      <th>defeats</th>\n",
       "      <th>goals</th>\n",
       "      <th>yellowCards</th>\n",
       "      <th>yellowReds</th>\n",
       "      <th>redCards</th>\n",
       "      <th>rater1</th>\n",
       "      <th>rater2</th>\n",
       "      <th>refNum</th>\n",
       "      <th>refCountry</th>\n",
       "      <th>meanIAT</th>\n",
       "      <th>nIAT</th>\n",
       "      <th>seIAT</th>\n",
       "      <th>meanExp</th>\n",
       "      <th>nExp</th>\n",
       "      <th>seExp</th>\n",
       "    </tr>\n",
       "    <tr>\n",
       "      <th>playerShort</th>\n",
       "      <th></th>\n",
       "      <th></th>\n",
       "      <th></th>\n",
       "      <th></th>\n",
       "      <th></th>\n",
       "      <th></th>\n",
       "      <th></th>\n",
       "      <th></th>\n",
       "      <th></th>\n",
       "      <th></th>\n",
       "      <th></th>\n",
       "      <th></th>\n",
       "      <th></th>\n",
       "      <th></th>\n",
       "      <th></th>\n",
       "      <th></th>\n",
       "      <th></th>\n",
       "      <th></th>\n",
       "      <th></th>\n",
       "      <th></th>\n",
       "    </tr>\n",
       "  </thead>\n",
       "  <tbody>\n",
       "    <tr>\n",
       "      <th>aaron-hughes</th>\n",
       "      <td>182.0</td>\n",
       "      <td>71.0</td>\n",
       "      <td>3.939759</td>\n",
       "      <td>1.487952</td>\n",
       "      <td>1.078313</td>\n",
       "      <td>1.373494</td>\n",
       "      <td>0.054217</td>\n",
       "      <td>0.114458</td>\n",
       "      <td>0.000000</td>\n",
       "      <td>0.000000</td>\n",
       "      <td>0.25</td>\n",
       "      <td>0.00</td>\n",
       "      <td>1612.656627</td>\n",
       "      <td>43.921687</td>\n",
       "      <td>0.346459</td>\n",
       "      <td>19710.156627</td>\n",
       "      <td>0.000652</td>\n",
       "      <td>0.494575</td>\n",
       "      <td>20637.277108</td>\n",
       "      <td>0.004065</td>\n",
       "    </tr>\n",
       "    <tr>\n",
       "      <th>aaron-hunt</th>\n",
       "      <td>183.0</td>\n",
       "      <td>73.0</td>\n",
       "      <td>3.393939</td>\n",
       "      <td>1.424242</td>\n",
       "      <td>0.737374</td>\n",
       "      <td>1.232323</td>\n",
       "      <td>0.626263</td>\n",
       "      <td>0.424242</td>\n",
       "      <td>0.000000</td>\n",
       "      <td>0.010101</td>\n",
       "      <td>0.00</td>\n",
       "      <td>0.25</td>\n",
       "      <td>1662.515152</td>\n",
       "      <td>25.070707</td>\n",
       "      <td>0.348818</td>\n",
       "      <td>26104.292929</td>\n",
       "      <td>0.000219</td>\n",
       "      <td>0.449220</td>\n",
       "      <td>26864.454545</td>\n",
       "      <td>0.000993</td>\n",
       "    </tr>\n",
       "    <tr>\n",
       "      <th>aaron-lennon</th>\n",
       "      <td>165.0</td>\n",
       "      <td>63.0</td>\n",
       "      <td>4.079208</td>\n",
       "      <td>1.980198</td>\n",
       "      <td>0.960396</td>\n",
       "      <td>1.138614</td>\n",
       "      <td>0.306931</td>\n",
       "      <td>0.108911</td>\n",
       "      <td>0.000000</td>\n",
       "      <td>0.000000</td>\n",
       "      <td>0.25</td>\n",
       "      <td>0.25</td>\n",
       "      <td>1598.871287</td>\n",
       "      <td>42.772277</td>\n",
       "      <td>0.345893</td>\n",
       "      <td>21234.861386</td>\n",
       "      <td>0.000367</td>\n",
       "      <td>0.491482</td>\n",
       "      <td>22238.742574</td>\n",
       "      <td>0.002032</td>\n",
       "    </tr>\n",
       "    <tr>\n",
       "      <th>aaron-ramsey</th>\n",
       "      <td>178.0</td>\n",
       "      <td>76.0</td>\n",
       "      <td>2.500000</td>\n",
       "      <td>1.442308</td>\n",
       "      <td>0.403846</td>\n",
       "      <td>0.653846</td>\n",
       "      <td>0.375000</td>\n",
       "      <td>0.298077</td>\n",
       "      <td>0.000000</td>\n",
       "      <td>0.009615</td>\n",
       "      <td>0.00</td>\n",
       "      <td>0.00</td>\n",
       "      <td>1668.500000</td>\n",
       "      <td>45.067308</td>\n",
       "      <td>0.346821</td>\n",
       "      <td>38285.826923</td>\n",
       "      <td>0.003334</td>\n",
       "      <td>0.514693</td>\n",
       "      <td>39719.980769</td>\n",
       "      <td>0.013522</td>\n",
       "    </tr>\n",
       "    <tr>\n",
       "      <th>abdelhamid-el-kaoutari</th>\n",
       "      <td>180.0</td>\n",
       "      <td>73.0</td>\n",
       "      <td>3.351351</td>\n",
       "      <td>1.108108</td>\n",
       "      <td>1.081081</td>\n",
       "      <td>1.162162</td>\n",
       "      <td>0.027027</td>\n",
       "      <td>0.216216</td>\n",
       "      <td>0.108108</td>\n",
       "      <td>0.054054</td>\n",
       "      <td>0.25</td>\n",
       "      <td>0.25</td>\n",
       "      <td>1610.891892</td>\n",
       "      <td>17.189189</td>\n",
       "      <td>0.331600</td>\n",
       "      <td>2832.351351</td>\n",
       "      <td>0.001488</td>\n",
       "      <td>0.335587</td>\n",
       "      <td>2953.837838</td>\n",
       "      <td>0.005296</td>\n",
       "    </tr>\n",
       "  </tbody>\n",
       "</table>\n",
       "</div>"
      ],
      "text/plain": [
       "                        height  weight     games  victories      ties  \\\n",
       "playerShort                                                             \n",
       "aaron-hughes             182.0    71.0  3.939759   1.487952  1.078313   \n",
       "aaron-hunt               183.0    73.0  3.393939   1.424242  0.737374   \n",
       "aaron-lennon             165.0    63.0  4.079208   1.980198  0.960396   \n",
       "aaron-ramsey             178.0    76.0  2.500000   1.442308  0.403846   \n",
       "abdelhamid-el-kaoutari   180.0    73.0  3.351351   1.108108  1.081081   \n",
       "\n",
       "                         defeats     goals  yellowCards  yellowReds  redCards  \\\n",
       "playerShort                                                                     \n",
       "aaron-hughes            1.373494  0.054217     0.114458    0.000000  0.000000   \n",
       "aaron-hunt              1.232323  0.626263     0.424242    0.000000  0.010101   \n",
       "aaron-lennon            1.138614  0.306931     0.108911    0.000000  0.000000   \n",
       "aaron-ramsey            0.653846  0.375000     0.298077    0.000000  0.009615   \n",
       "abdelhamid-el-kaoutari  1.162162  0.027027     0.216216    0.108108  0.054054   \n",
       "\n",
       "                        rater1  rater2       refNum  refCountry   meanIAT  \\\n",
       "playerShort                                                                 \n",
       "aaron-hughes              0.25    0.00  1612.656627   43.921687  0.346459   \n",
       "aaron-hunt                0.00    0.25  1662.515152   25.070707  0.348818   \n",
       "aaron-lennon              0.25    0.25  1598.871287   42.772277  0.345893   \n",
       "aaron-ramsey              0.00    0.00  1668.500000   45.067308  0.346821   \n",
       "abdelhamid-el-kaoutari    0.25    0.25  1610.891892   17.189189  0.331600   \n",
       "\n",
       "                                nIAT     seIAT   meanExp          nExp  \\\n",
       "playerShort                                                              \n",
       "aaron-hughes            19710.156627  0.000652  0.494575  20637.277108   \n",
       "aaron-hunt              26104.292929  0.000219  0.449220  26864.454545   \n",
       "aaron-lennon            21234.861386  0.000367  0.491482  22238.742574   \n",
       "aaron-ramsey            38285.826923  0.003334  0.514693  39719.980769   \n",
       "abdelhamid-el-kaoutari   2832.351351  0.001488  0.335587   2953.837838   \n",
       "\n",
       "                           seExp  \n",
       "playerShort                       \n",
       "aaron-hughes            0.004065  \n",
       "aaron-hunt              0.000993  \n",
       "aaron-lennon            0.002032  \n",
       "aaron-ramsey            0.013522  \n",
       "abdelhamid-el-kaoutari  0.005296  "
      ]
     },
     "execution_count": 7,
     "metadata": {},
     "output_type": "execute_result"
    }
   ],
   "source": [
    "df_by_player = df.groupby(\"playerShort\")\n",
    "df_players = df_by_player.agg(np.mean)\n",
    "df_players.head()"
   ]
  },
  {
   "cell_type": "code",
   "execution_count": 8,
   "metadata": {
    "collapsed": false
   },
   "outputs": [
    {
     "data": {
      "text/html": [
       "<div>\n",
       "<table border=\"1\" class=\"dataframe\">\n",
       "  <thead>\n",
       "    <tr style=\"text-align: right;\">\n",
       "      <th></th>\n",
       "      <th>height</th>\n",
       "      <th>weight</th>\n",
       "      <th>rater1</th>\n",
       "      <th>rater2</th>\n",
       "    </tr>\n",
       "    <tr>\n",
       "      <th>playerShort</th>\n",
       "      <th></th>\n",
       "      <th></th>\n",
       "      <th></th>\n",
       "      <th></th>\n",
       "    </tr>\n",
       "  </thead>\n",
       "  <tbody>\n",
       "    <tr>\n",
       "      <th>lukas-rupp</th>\n",
       "      <td>178.0</td>\n",
       "      <td>73.0</td>\n",
       "      <td>0.25</td>\n",
       "      <td>0.25</td>\n",
       "    </tr>\n",
       "    <tr>\n",
       "      <th>ron-robert-zieler</th>\n",
       "      <td>188.0</td>\n",
       "      <td>83.0</td>\n",
       "      <td>0.25</td>\n",
       "      <td>0.00</td>\n",
       "    </tr>\n",
       "    <tr>\n",
       "      <th>jannik-loehden</th>\n",
       "      <td>201.0</td>\n",
       "      <td>97.0</td>\n",
       "      <td>0.00</td>\n",
       "      <td>0.00</td>\n",
       "    </tr>\n",
       "    <tr>\n",
       "      <th>anderson_7</th>\n",
       "      <td>176.0</td>\n",
       "      <td>69.0</td>\n",
       "      <td>0.75</td>\n",
       "      <td>0.75</td>\n",
       "    </tr>\n",
       "    <tr>\n",
       "      <th>punal</th>\n",
       "      <td>179.0</td>\n",
       "      <td>73.0</td>\n",
       "      <td>0.25</td>\n",
       "      <td>0.25</td>\n",
       "    </tr>\n",
       "  </tbody>\n",
       "</table>\n",
       "</div>"
      ],
      "text/plain": [
       "                   height  weight  rater1  rater2\n",
       "playerShort                                      \n",
       "lukas-rupp          178.0    73.0    0.25    0.25\n",
       "ron-robert-zieler   188.0    83.0    0.25    0.00\n",
       "jannik-loehden      201.0    97.0    0.00    0.00\n",
       "anderson_7          176.0    69.0    0.75    0.75\n",
       "punal               179.0    73.0    0.25    0.25"
      ]
     },
     "execution_count": 8,
     "metadata": {},
     "output_type": "execute_result"
    }
   ],
   "source": [
    "# Create a df with player constant description attributes\n",
    "df_players_description = df_players[[\"height\", \"weight\", \"rater1\", \"rater2\"]]\n",
    "df_players_description.sample(5)"
   ]
  },
  {
   "cell_type": "markdown",
   "metadata": {},
   "source": [
    "## Raters consistency"
   ]
  },
  {
   "cell_type": "markdown",
   "metadata": {},
   "source": [
    "We suspect that the raters have a certain bias and do not always rate the same player the same way. We look at the differences"
   ]
  },
  {
   "cell_type": "code",
   "execution_count": 9,
   "metadata": {
    "collapsed": false
   },
   "outputs": [
    {
     "data": {
      "text/plain": [
       "count    1585.000000\n",
       "mean       -0.041798\n",
       "std         0.115943\n",
       "min        -0.500000\n",
       "25%         0.000000\n",
       "50%         0.000000\n",
       "75%         0.000000\n",
       "max         0.250000\n",
       "dtype: float64"
      ]
     },
     "execution_count": 9,
     "metadata": {},
     "output_type": "execute_result"
    }
   ],
   "source": [
    "(df_players_description[\"rater1\"] - df_players_description[\"rater2\"]).describe()"
   ]
  },
  {
   "cell_type": "markdown",
   "metadata": {
    "collapsed": true
   },
   "source": [
    "We see that rater2 rates the skintone higher than rater1 on average. \n",
    "We now make a new attribute that is the mean of rater1 and rater2's scores. "
   ]
  },
  {
   "cell_type": "code",
   "execution_count": 35,
   "metadata": {
    "collapsed": false
   },
   "outputs": [
    {
     "name": "stderr",
     "output_type": "stream",
     "text": [
      "C:\\Users\\bls73\\Anaconda3\\lib\\site-packages\\ipykernel\\__main__.py:1: SettingWithCopyWarning: \n",
      "A value is trying to be set on a copy of a slice from a DataFrame.\n",
      "Try using .loc[row_indexer,col_indexer] = value instead\n",
      "\n",
      "See the caveats in the documentation: http://pandas.pydata.org/pandas-docs/stable/indexing.html#indexing-view-versus-copy\n",
      "  if __name__ == '__main__':\n"
     ]
    }
   ],
   "source": [
    "df_players_description[\"rateMean\"] = (df_players_description[\"rater1\"] + df_players_description[\"rater2\"]) / 2"
   ]
  },
  {
   "cell_type": "code",
   "execution_count": 139,
   "metadata": {
    "collapsed": false
   },
   "outputs": [
    {
     "data": {
      "text/html": [
       "<div>\n",
       "<table border=\"1\" class=\"dataframe\">\n",
       "  <thead>\n",
       "    <tr style=\"text-align: right;\">\n",
       "      <th></th>\n",
       "      <th>height</th>\n",
       "      <th>weight</th>\n",
       "      <th>rater1</th>\n",
       "      <th>rater2</th>\n",
       "      <th>rateMean</th>\n",
       "      <th>darkSkin</th>\n",
       "    </tr>\n",
       "    <tr>\n",
       "      <th>playerShort</th>\n",
       "      <th></th>\n",
       "      <th></th>\n",
       "      <th></th>\n",
       "      <th></th>\n",
       "      <th></th>\n",
       "      <th></th>\n",
       "    </tr>\n",
       "  </thead>\n",
       "  <tbody>\n",
       "    <tr>\n",
       "      <th>jens-grahl</th>\n",
       "      <td>193.0</td>\n",
       "      <td>86.0</td>\n",
       "      <td>0.25</td>\n",
       "      <td>0.25</td>\n",
       "      <td>0.250</td>\n",
       "      <td>False</td>\n",
       "    </tr>\n",
       "    <tr>\n",
       "      <th>sergio-ramos</th>\n",
       "      <td>183.0</td>\n",
       "      <td>75.0</td>\n",
       "      <td>0.00</td>\n",
       "      <td>0.00</td>\n",
       "      <td>0.000</td>\n",
       "      <td>False</td>\n",
       "    </tr>\n",
       "    <tr>\n",
       "      <th>fabrice-begeorgi</th>\n",
       "      <td>177.0</td>\n",
       "      <td>74.0</td>\n",
       "      <td>0.00</td>\n",
       "      <td>0.00</td>\n",
       "      <td>0.000</td>\n",
       "      <td>False</td>\n",
       "    </tr>\n",
       "    <tr>\n",
       "      <th>kossi-agassa</th>\n",
       "      <td>190.0</td>\n",
       "      <td>83.0</td>\n",
       "      <td>1.00</td>\n",
       "      <td>1.00</td>\n",
       "      <td>1.000</td>\n",
       "      <td>True</td>\n",
       "    </tr>\n",
       "    <tr>\n",
       "      <th>thomas-mueller</th>\n",
       "      <td>186.0</td>\n",
       "      <td>74.0</td>\n",
       "      <td>0.00</td>\n",
       "      <td>0.25</td>\n",
       "      <td>0.125</td>\n",
       "      <td>False</td>\n",
       "    </tr>\n",
       "  </tbody>\n",
       "</table>\n",
       "</div>"
      ],
      "text/plain": [
       "                  height  weight  rater1  rater2  rateMean darkSkin\n",
       "playerShort                                                        \n",
       "jens-grahl         193.0    86.0    0.25    0.25     0.250    False\n",
       "sergio-ramos       183.0    75.0    0.00    0.00     0.000    False\n",
       "fabrice-begeorgi   177.0    74.0    0.00    0.00     0.000    False\n",
       "kossi-agassa       190.0    83.0    1.00    1.00     1.000     True\n",
       "thomas-mueller     186.0    74.0    0.00    0.25     0.125    False"
      ]
     },
     "execution_count": 139,
     "metadata": {},
     "output_type": "execute_result"
    }
   ],
   "source": [
    "df_players_description.sample(5)"
   ]
  },
  {
   "cell_type": "code",
   "execution_count": 155,
   "metadata": {
    "collapsed": false
   },
   "outputs": [
    {
     "data": {
      "text/html": [
       "<div>\n",
       "<table border=\"1\" class=\"dataframe\">\n",
       "  <thead>\n",
       "    <tr style=\"text-align: right;\">\n",
       "      <th></th>\n",
       "      <th>height</th>\n",
       "      <th>weight</th>\n",
       "      <th>rater1</th>\n",
       "      <th>rater2</th>\n",
       "      <th>rateMean</th>\n",
       "      <th>darkSkin</th>\n",
       "    </tr>\n",
       "    <tr>\n",
       "      <th>playerShort</th>\n",
       "      <th></th>\n",
       "      <th></th>\n",
       "      <th></th>\n",
       "      <th></th>\n",
       "      <th></th>\n",
       "      <th></th>\n",
       "    </tr>\n",
       "  </thead>\n",
       "  <tbody>\n",
       "    <tr>\n",
       "      <th>aaron-hughes</th>\n",
       "      <td>182.0</td>\n",
       "      <td>71.0</td>\n",
       "      <td>0.25</td>\n",
       "      <td>0.00</td>\n",
       "      <td>0.125</td>\n",
       "      <td>False</td>\n",
       "    </tr>\n",
       "    <tr>\n",
       "      <th>aaron-hunt</th>\n",
       "      <td>183.0</td>\n",
       "      <td>73.0</td>\n",
       "      <td>0.00</td>\n",
       "      <td>0.25</td>\n",
       "      <td>0.125</td>\n",
       "      <td>False</td>\n",
       "    </tr>\n",
       "    <tr>\n",
       "      <th>aaron-lennon</th>\n",
       "      <td>165.0</td>\n",
       "      <td>63.0</td>\n",
       "      <td>0.25</td>\n",
       "      <td>0.25</td>\n",
       "      <td>0.250</td>\n",
       "      <td>False</td>\n",
       "    </tr>\n",
       "    <tr>\n",
       "      <th>aaron-ramsey</th>\n",
       "      <td>178.0</td>\n",
       "      <td>76.0</td>\n",
       "      <td>0.00</td>\n",
       "      <td>0.00</td>\n",
       "      <td>0.000</td>\n",
       "      <td>False</td>\n",
       "    </tr>\n",
       "    <tr>\n",
       "      <th>abdelhamid-el-kaoutari</th>\n",
       "      <td>180.0</td>\n",
       "      <td>73.0</td>\n",
       "      <td>0.25</td>\n",
       "      <td>0.25</td>\n",
       "      <td>0.250</td>\n",
       "      <td>False</td>\n",
       "    </tr>\n",
       "    <tr>\n",
       "      <th>abdou-traore_2</th>\n",
       "      <td>180.0</td>\n",
       "      <td>74.0</td>\n",
       "      <td>0.75</td>\n",
       "      <td>0.75</td>\n",
       "      <td>0.750</td>\n",
       "      <td>True</td>\n",
       "    </tr>\n",
       "    <tr>\n",
       "      <th>abdoulaye-diallo_2</th>\n",
       "      <td>189.0</td>\n",
       "      <td>80.0</td>\n",
       "      <td>0.75</td>\n",
       "      <td>1.00</td>\n",
       "      <td>0.875</td>\n",
       "      <td>True</td>\n",
       "    </tr>\n",
       "    <tr>\n",
       "      <th>abdoulaye-keita_2</th>\n",
       "      <td>188.0</td>\n",
       "      <td>83.0</td>\n",
       "      <td>0.75</td>\n",
       "      <td>1.00</td>\n",
       "      <td>0.875</td>\n",
       "      <td>True</td>\n",
       "    </tr>\n",
       "    <tr>\n",
       "      <th>abdoulwhaid-sissoko</th>\n",
       "      <td>180.0</td>\n",
       "      <td>68.0</td>\n",
       "      <td>1.00</td>\n",
       "      <td>1.00</td>\n",
       "      <td>1.000</td>\n",
       "      <td>True</td>\n",
       "    </tr>\n",
       "    <tr>\n",
       "      <th>abdul-rahman-baba</th>\n",
       "      <td>179.0</td>\n",
       "      <td>70.0</td>\n",
       "      <td>0.75</td>\n",
       "      <td>1.00</td>\n",
       "      <td>0.875</td>\n",
       "      <td>True</td>\n",
       "    </tr>\n",
       "  </tbody>\n",
       "</table>\n",
       "</div>"
      ],
      "text/plain": [
       "                        height  weight  rater1  rater2  rateMean darkSkin\n",
       "playerShort                                                              \n",
       "aaron-hughes             182.0    71.0    0.25    0.00     0.125    False\n",
       "aaron-hunt               183.0    73.0    0.00    0.25     0.125    False\n",
       "aaron-lennon             165.0    63.0    0.25    0.25     0.250    False\n",
       "aaron-ramsey             178.0    76.0    0.00    0.00     0.000    False\n",
       "abdelhamid-el-kaoutari   180.0    73.0    0.25    0.25     0.250    False\n",
       "abdou-traore_2           180.0    74.0    0.75    0.75     0.750     True\n",
       "abdoulaye-diallo_2       189.0    80.0    0.75    1.00     0.875     True\n",
       "abdoulaye-keita_2        188.0    83.0    0.75    1.00     0.875     True\n",
       "abdoulwhaid-sissoko      180.0    68.0    1.00    1.00     1.000     True\n",
       "abdul-rahman-baba        179.0    70.0    0.75    1.00     0.875     True"
      ]
     },
     "execution_count": 155,
     "metadata": {},
     "output_type": "execute_result"
    }
   ],
   "source": [
    "# We choose >= blabla comment \n",
    "df_players_description['darkSkin'] = df_players_description['rateMean']  >= 0.5\n",
    "df_players_description.head(10)"
   ]
  },
  {
   "cell_type": "code",
   "execution_count": 156,
   "metadata": {
    "collapsed": false
   },
   "outputs": [
    {
     "data": {
      "text/plain": [
       "RandomForestClassifier(bootstrap=True, class_weight=None, criterion='gini',\n",
       "            max_depth=None, max_features='auto', max_leaf_nodes=None,\n",
       "            min_samples_leaf=1, min_samples_split=2,\n",
       "            min_weight_fraction_leaf=0.0, n_estimators=100, n_jobs=1,\n",
       "            oob_score=False, random_state=None, verbose=0,\n",
       "            warm_start=False)"
      ]
     },
     "execution_count": 156,
     "metadata": {},
     "output_type": "execute_result"
    }
   ],
   "source": [
    "from sklearn.ensemble import RandomForestClassifier\n",
    "df_players_description =  df_players_description.dropna()\n",
    "X = df_players_description[['height', 'weight']]\n",
    "y = df_players_description['darkSkin']\n",
    "clf = RandomForestClassifier(n_estimators=100)\n",
    "clf.fit(X,y)"
   ]
  },
  {
   "cell_type": "code",
   "execution_count": 157,
   "metadata": {
    "collapsed": false
   },
   "outputs": [
    {
     "name": "stdout",
     "output_type": "stream",
     "text": [
      "The accuracy is 81.07%\n"
     ]
    }
   ],
   "source": [
    "from sklearn import metrics\n",
    "y_pred = clf.predict(X)\n",
    "print('The accuracy is {0:.2f}%'.format(metrics.accuracy_score(y, y_pred)*100))"
   ]
  },
  {
   "cell_type": "markdown",
   "metadata": {},
   "source": [
    "  81% accuracy can seem pretty good, but we must remember that we are training on the whole dataset so it doesn't mean much."
   ]
  },
  {
   "cell_type": "code",
   "execution_count": 158,
   "metadata": {
    "collapsed": false
   },
   "outputs": [
    {
     "name": "stdout",
     "output_type": "stream",
     "text": [
      "The accuracy is 68.85%\n"
     ]
    }
   ],
   "source": [
    "from sklearn.cross_validation import train_test_split\n",
    "X_train, X_test, y_train, y_test = train_test_split(X, y, test_size=0.4)\n",
    "clf.fit(X_train, y_train)\n",
    "y_pred = clf.predict(X_test)\n",
    "print('The accuracy is {0:.2f}%'.format(metrics.accuracy_score(y_test, y_pred)*100))"
   ]
  },
  {
   "cell_type": "code",
   "execution_count": null,
   "metadata": {
    "collapsed": true
   },
   "outputs": [],
   "source": []
  }
 ],
 "metadata": {
  "anaconda-cloud": {},
  "kernelspec": {
   "display_name": "Python [Root]",
   "language": "python",
   "name": "Python [Root]"
  },
  "language_info": {
   "codemirror_mode": {
    "name": "ipython",
    "version": 3
   },
   "file_extension": ".py",
   "mimetype": "text/x-python",
   "name": "python",
   "nbconvert_exporter": "python",
   "pygments_lexer": "ipython3",
   "version": "3.5.2"
  }
 },
 "nbformat": 4,
 "nbformat_minor": 1
}
